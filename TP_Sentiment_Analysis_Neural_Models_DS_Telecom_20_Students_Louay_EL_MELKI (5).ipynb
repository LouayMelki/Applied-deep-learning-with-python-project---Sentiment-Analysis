{
 "cells": [
  {
   "cell_type": "markdown",
   "metadata": {
    "id": "JfkpXKBIthcS"
   },
   "source": [
    "# Text classification with Pytorch\n",
    "\n",
    "The goal of this TP is double: an introduction to using Pytorch for treating textual data, and implementing neural classification models that we can apply to IMDB data - and then compare to models implemented in the previous TPs. "
   ]
  },
  {
   "cell_type": "code",
   "execution_count": 99,
   "metadata": {
    "id": "FH7c_eMyte-D"
   },
   "outputs": [],
   "source": [
    "import torch\n",
    "import torch.nn as nn"
   ]
  },
  {
   "cell_type": "markdown",
   "metadata": {
    "id": "TG1Tv5TLtpjP"
   },
   "source": [
    "### A (very small) introduction to pytorch\n",
    "\n",
    "Pytorch Tensors are very similar to Numpy arrays, with the added benefit of being usable on GPU. For a short tutorial on various methods to create tensors of particular types, see [this link](https://pytorch.org/tutorials/beginner/blitz/tensor_tutorial.html#sphx-glr-beginner-blitz-tensor-tutorial-py).\n",
    "The important things to note are that Tensors can be created empty, from lists, and it is very easy to convert a numpy array into a pytorch tensor, and inversely."
   ]
  },
  {
   "cell_type": "code",
   "execution_count": 100,
   "metadata": {
    "colab": {
     "base_uri": "https://localhost:8080/"
    },
    "id": "Mb3h3-OEtuHz",
    "outputId": "c1e899fa-68ef-4fd0-9db7-e5eebe3ed646"
   },
   "outputs": [
    {
     "name": "stdout",
     "output_type": "stream",
     "text": [
      "tensor([     93931133437568,                  27,          4294967295,\n",
      "        4908972153413002606, 7214836307739637349])\n",
      "tensor([5])\n"
     ]
    }
   ],
   "source": [
    "a = torch.LongTensor(5)\n",
    "b = torch.LongTensor([5])\n",
    "\n",
    "print(a)\n",
    "print(b)"
   ]
  },
  {
   "cell_type": "code",
   "execution_count": 101,
   "metadata": {
    "colab": {
     "base_uri": "https://localhost:8080/"
    },
    "id": "EohavgcYtv6f",
    "outputId": "3bee15f8-c6ba-4623-84ce-6562cc6219d0"
   },
   "outputs": [
    {
     "name": "stdout",
     "output_type": "stream",
     "text": [
      "tensor([5.])\n"
     ]
    }
   ],
   "source": [
    "a = torch.FloatTensor([2])\n",
    "b = torch.FloatTensor([3])\n",
    "\n",
    "print(a + b)"
   ]
  },
  {
   "cell_type": "markdown",
   "metadata": {
    "id": "AJ7gaHMpt0fV"
   },
   "source": [
    "The main interest in us using Pytorch is the ```autograd``` package. ```torch.Tensor```objects have an attribute ```.requires_grad```; if set as True, it starts to track all operations on it. When you finish your computation, can call ```.backward()``` and all the gradients are computed automatically (and stored in the ```.grad``` attribute).\n",
    "\n",
    "One way to easily cut a tensor from the computational once it is not needed anymore is to use ```.detach()```.\n",
    "More info on automatic differentiation in pytorch on [this link](https://pytorch.org/tutorials/beginner/blitz/autograd_tutorial.html#sphx-glr-beginner-blitz-autograd-tutorial-py).\n"
   ]
  },
  {
   "cell_type": "code",
   "execution_count": 102,
   "metadata": {
    "colab": {
     "base_uri": "https://localhost:8080/"
    },
    "id": "DGHcybvEty-E",
    "outputId": "cb35845a-a513-48af-d403-c683abd4fed3"
   },
   "outputs": [
    {
     "name": "stdout",
     "output_type": "stream",
     "text": [
      "tensor(2.)\n",
      "tensor(1.)\n",
      "tensor(1.)\n"
     ]
    }
   ],
   "source": [
    "x = torch.tensor(1., requires_grad=True)\n",
    "w = torch.tensor(2., requires_grad=True)\n",
    "b = torch.tensor(3., requires_grad=True)\n",
    "\n",
    "# Build a computational graph.\n",
    "y = w * x + b    # y = 2 * x + 3\n",
    "\n",
    "# Compute gradients.\n",
    "y.backward()\n",
    "\n",
    "# Print out the gradients.\n",
    "print(x.grad)    # x.grad = 2 \n",
    "print(w.grad)    # w.grad = 1 \n",
    "print(b.grad)    # b.grad = 1 "
   ]
  },
  {
   "cell_type": "code",
   "execution_count": 103,
   "metadata": {
    "colab": {
     "base_uri": "https://localhost:8080/"
    },
    "id": "6b2WNPUetzA-",
    "outputId": "7c4e544a-60a4-4e66-dcab-9caa6f158d58"
   },
   "outputs": [
    {
     "name": "stdout",
     "output_type": "stream",
     "text": [
      "weight\n",
      "Parameter containing:\n",
      "tensor([[ 0.3303, -0.4486, -0.2914],\n",
      "        [ 0.1760,  0.1221, -0.1472]], requires_grad=True)\n",
      "bias\n",
      "Parameter containing:\n",
      "tensor([0.3441, 0.3925], requires_grad=True)\n",
      "Initial loss:  1.3511340618133545\n",
      "dL/dw:  tensor([[ 0.2482, -0.7210,  0.1423],\n",
      "        [ 0.5073,  0.1221, -0.1060]])\n",
      "dL/db:  tensor([0.5205, 0.0437])\n"
     ]
    }
   ],
   "source": [
    "x = torch.randn(10, 3)\n",
    "y = torch.randn(10, 2)\n",
    "\n",
    "# Build a fully connected layer.\n",
    "linear = nn.Linear(3, 2)\n",
    "for name, p in linear.named_parameters():\n",
    "    print(name)\n",
    "    print(p)\n",
    "\n",
    "# Build loss function - Mean Square Error\n",
    "criterion = nn.MSELoss()\n",
    "\n",
    "# Forward pass.\n",
    "pred = linear(x)\n",
    "\n",
    "# Compute loss.\n",
    "loss = criterion(pred, y)\n",
    "print('Initial loss: ', loss.item())\n",
    "\n",
    "# Backward pass.\n",
    "loss.backward()\n",
    "\n",
    "# Print out the gradients.\n",
    "print ('dL/dw: ', linear.weight.grad) \n",
    "print ('dL/db: ', linear.bias.grad)"
   ]
  },
  {
   "cell_type": "code",
   "execution_count": 104,
   "metadata": {
    "colab": {
     "base_uri": "https://localhost:8080/"
    },
    "id": "aCZynIQFtzD0",
    "outputId": "b9c6c9d7-0d31-498c-bf1c-eb6e696ad6db"
   },
   "outputs": [
    {
     "name": "stdout",
     "output_type": "stream",
     "text": [
      "Loss after one update:  1.339634656906128\n"
     ]
    }
   ],
   "source": [
    "# You can perform gradient descent manually, with an in-place update ...\n",
    "linear.weight.data.sub_(0.01 * linear.weight.grad.data)\n",
    "linear.bias.data.sub_(0.01 * linear.bias.grad.data)\n",
    "\n",
    "# Print out the loss after 1-step gradient descent.\n",
    "pred = linear(x)\n",
    "loss = criterion(pred, y)\n",
    "print('Loss after one update: ', loss.item())"
   ]
  },
  {
   "cell_type": "code",
   "execution_count": 105,
   "metadata": {
    "colab": {
     "base_uri": "https://localhost:8080/"
    },
    "id": "RXaI-9Z9tzGt",
    "outputId": "4b254f7c-cf48-4c54-8207-3b25a94197e0"
   },
   "outputs": [
    {
     "name": "stdout",
     "output_type": "stream",
     "text": [
      "Loss after two updates:  1.3284575939178467\n"
     ]
    }
   ],
   "source": [
    "# Use the optim package to define an Optimizer that will update the weights of the model.\n",
    "optimizer = torch.optim.SGD(linear.parameters(), lr=0.01)\n",
    "\n",
    "# By default, gradients are accumulated in buffers( i.e, not overwritten) whenever .backward()\n",
    "# is called. Before the backward pass, we need to use the optimizer object to zero all of the\n",
    "# gradients.\n",
    "optimizer.zero_grad()\n",
    "loss.backward()\n",
    "\n",
    "# Calling the step function on an Optimizer makes an update to its parameters\n",
    "optimizer.step()\n",
    "\n",
    "# Print out the loss after the second step of gradient descent.\n",
    "pred = linear(x)\n",
    "loss = criterion(pred, y)\n",
    "print('Loss after two updates: ', loss.item())"
   ]
  },
  {
   "cell_type": "markdown",
   "metadata": {
    "id": "xjcyC09ct9Nn"
   },
   "source": [
    "### Tools for data processing \n",
    "\n",
    "```torch.utils.data.Dataset``` is an abstract class representing a dataset. Your custom dataset should inherit ```Dataset``` and override the following methods:\n",
    "- ```__len__``` so that ```len(dataset)``` returns the size of the dataset.\n",
    "- ```__getitem__``` to support the indexing such that ```dataset[i]``` can be used to get the i-th sample\n",
    "\n",
    "Here is a toy example: "
   ]
  },
  {
   "cell_type": "code",
   "execution_count": 106,
   "metadata": {
    "id": "OAZi4yvpuAyG"
   },
   "outputs": [],
   "source": [
    "toy_corpus = ['I walked down down the boulevard',\n",
    "              'I walked down the avenue',\n",
    "              'I ran down the boulevard',\n",
    "              'I walk down the city',\n",
    "              'I walk down the the avenue']\n",
    "\n",
    "toy_categories = [0, 0, 1, 0, 0]"
   ]
  },
  {
   "cell_type": "code",
   "execution_count": 107,
   "metadata": {
    "id": "I0s6D6VOuCNc"
   },
   "outputs": [],
   "source": [
    "from torch.utils.data import Dataset, DataLoader\n",
    "\n",
    "class CustomDataset(Dataset):\n",
    "    # A pytorch dataset class for holding data for a text classification task.\n",
    "    def __init__(self, data, categories):\n",
    "        # Upon creating the Dataset object, store the data in an attribute\n",
    "        # Split the text data and labels from each other\n",
    "        self.X, self.Y = [], []\n",
    "        for x, y in zip(data, categories):\n",
    "            # We will propably need to preprocess the data - have it done in a separate method\n",
    "            # We do it here because we might need corpus-wide info to do the preprocessing \n",
    "            # For example, cutting all examples to the same length\n",
    "            self.X.append(self.preprocess(x))\n",
    "            self.Y.append(y)\n",
    "                \n",
    "    # Method allowing you to preprocess data                      \n",
    "    def preprocess(self, text):\n",
    "        text_pp = text.lower().strip()\n",
    "        return text_pp\n",
    "    \n",
    "    # Overriding the method __len__ so that len(CustomDatasetName) returns the number of data samples                     \n",
    "    def __len__(self):\n",
    "        return len(self.Y)\n",
    "   \n",
    "    # Overriding the method __getitem__ so that CustomDatasetName[i] returns the i-th sample of the dataset                      \n",
    "    def __getitem__(self, idx):\n",
    "           return self.X[idx], self.Y[idx]"
   ]
  },
  {
   "cell_type": "code",
   "execution_count": 108,
   "metadata": {
    "id": "cmjsfRZPuCQc"
   },
   "outputs": [],
   "source": [
    "toy_dataset = CustomDataset(toy_corpus, toy_categories)"
   ]
  },
  {
   "cell_type": "code",
   "execution_count": 109,
   "metadata": {
    "colab": {
     "base_uri": "https://localhost:8080/"
    },
    "id": "pxyTBFp6uGaL",
    "outputId": "43447ed4-0aac-4e95-c7f5-de76377bed23"
   },
   "outputs": [
    {
     "name": "stdout",
     "output_type": "stream",
     "text": [
      "5\n",
      "('i walked down down the boulevard', 0)\n",
      "('i walked down the avenue', 0)\n",
      "('i ran down the boulevard', 1)\n",
      "('i walk down the city', 0)\n",
      "('i walk down the the avenue', 0)\n"
     ]
    }
   ],
   "source": [
    "print(len(toy_dataset))\n",
    "for i in range(len(toy_dataset)):\n",
    "    print(toy_dataset[i])"
   ]
  },
  {
   "cell_type": "markdown",
   "metadata": {
    "id": "BdtlHKpJuKwY"
   },
   "source": [
    "```torch.utils.data.DataLoader``` is what we call an iterator, which provides very useful features:\n",
    "- Batching the data\n",
    "- Shuffling the data\n",
    "- Load the data in parallel using multiprocessing workers.\n",
    "and can be created very simply from a ```Dataset```. Continuing on our simple example: "
   ]
  },
  {
   "cell_type": "code",
   "execution_count": 110,
   "metadata": {
    "id": "WAk7_20auGdJ"
   },
   "outputs": [],
   "source": [
    "toy_dataloader = DataLoader(toy_dataset, batch_size = 2, shuffle = True)"
   ]
  },
  {
   "cell_type": "code",
   "execution_count": 111,
   "metadata": {
    "colab": {
     "base_uri": "https://localhost:8080/"
    },
    "id": "oTvn7nmZuGgE",
    "outputId": "fd6877f7-2251-45e0-f927-44deb8635328"
   },
   "outputs": [
    {
     "name": "stdout",
     "output_type": "stream",
     "text": [
      "Epoch:0\n",
      "Batch: ('i walk down the city', 'i walked down the avenue'); labels: tensor([0, 0])\n",
      "Batch: ('i walked down down the boulevard', 'i walk down the the avenue'); labels: tensor([0, 0])\n",
      "Batch: ('i ran down the boulevard',); labels: tensor([1])\n",
      "Epoch:1\n",
      "Batch: ('i walked down down the boulevard', 'i ran down the boulevard'); labels: tensor([0, 1])\n",
      "Batch: ('i walk down the the avenue', 'i walked down the avenue'); labels: tensor([0, 0])\n",
      "Batch: ('i walk down the city',); labels: tensor([0])\n",
      "Epoch:2\n",
      "Batch: ('i ran down the boulevard', 'i walked down the avenue'); labels: tensor([1, 0])\n",
      "Batch: ('i walk down the the avenue', 'i walk down the city'); labels: tensor([0, 0])\n",
      "Batch: ('i walked down down the boulevard',); labels: tensor([0])\n"
     ]
    }
   ],
   "source": [
    "for e in range(3):\n",
    "    print(\"Epoch:\" + str(e))\n",
    "    for x, y in toy_dataloader:\n",
    "        print(\"Batch: \" + str(x) + \"; labels: \" + str(y))  "
   ]
  },
  {
   "cell_type": "markdown",
   "metadata": {
    "id": "7lgbEZpbuQLN"
   },
   "source": [
    "### Data processing of a text dataset\n",
    "\n",
    "Now, we would like to apply what we saw to our case, and **create a specific class** ```TextClassificationDataset``` **inheriting** ```Dataset``` that will:\n",
    "- Create a vocabulary from the data (use what we saw in the previous TP)\n",
    "- Preprocess the data using this vocabulary, adding whatever we need for our pytorch model\n",
    "- Have a ```__getitem__``` method that allows us to use the class with a ```Dataloader``` to easily build batches."
   ]
  },
  {
   "cell_type": "code",
   "execution_count": 112,
   "metadata": {
    "id": "LXMyhHSfuGl4"
   },
   "outputs": [],
   "source": [
    "import os\n",
    "import sys\n",
    "import os.path as op\n",
    "from torch.nn import functional as F\n",
    "import numpy as np\n",
    "import random\n",
    "\n",
    "from nltk import word_tokenize\n",
    "from torch.nn.utils.rnn import pad_sequence"
   ]
  },
  {
   "cell_type": "markdown",
   "metadata": {
    "id": "brvWrFAHvfzX"
   },
   "source": [
    "First, we get the filenames and the corresponding categories: "
   ]
  },
  {
   "cell_type": "code",
   "execution_count": 113,
   "metadata": {
    "colab": {
     "base_uri": "https://localhost:8080/"
    },
    "id": "WWrPRszpuGoY",
    "outputId": "3b6042af-255b-409b-db0f-f0ac3a2d517f"
   },
   "outputs": [
    {
     "name": "stderr",
     "output_type": "stream",
     "text": [
      "Downloading...\n",
      "From: http://ai.stanford.edu/~amaas/data/sentiment/aclImdb_v1.tar.gz\n",
      "To: /content/aclImdb_v1.tar.gz\n",
      "100%|██████████| 84.1M/84.1M [00:01<00:00, 44.8MB/s]\n"
     ]
    }
   ],
   "source": [
    "# For those on google colab: you can download the files directly with this:\n",
    "import gdown\n",
    "gdown.download(\"http://ai.stanford.edu/~amaas/data/sentiment/aclImdb_v1.tar.gz\", output=\"aclImdb_v1.tar.gz\", quiet=False)\n",
    "!tar xzf /content/aclImdb_v1.tar.gz"
   ]
  },
  {
   "cell_type": "code",
   "execution_count": 114,
   "metadata": {
    "id": "zWxaPdQjuGrm"
   },
   "outputs": [],
   "source": [
    "from glob import glob\n",
    "# We get the files from the path: ./aclImdb/train/neg for negative reviews, and ./aclImdb/train/pos for positive reviews\n",
    "train_filenames_neg = sorted(glob(op.join('.', 'aclImdb', 'train', 'neg', '*.txt')))\n",
    "train_filenames_pos = sorted(glob(op.join('.', 'aclImdb', 'train', 'pos', '*.txt')))\n",
    "\n",
    "test_filenames_neg = sorted(glob(op.join('.', 'aclImdb', 'test', 'neg', '*.txt')))\n",
    "test_filenames_pos = sorted(glob(op.join('.', 'aclImdb', 'test', 'pos', '*.txt')))\n",
    "\n",
    "# Each files contains a review that consists in one line of text: we put this string in two lists, that we concatenate\n",
    "train_texts_neg = [open(f, encoding=\"utf8\").read() for f in train_filenames_neg]\n",
    "train_texts_pos = [open(f, encoding=\"utf8\").read() for f in train_filenames_pos]\n",
    "train_texts = train_texts_neg + train_texts_pos\n",
    "\n",
    "test_texts_neg = [open(f, encoding=\"utf8\").read() for f in test_filenames_neg]\n",
    "test_texts_pos = [open(f, encoding=\"utf8\").read() for f in test_filenames_pos]\n",
    "test_texts = test_texts_neg + test_texts_pos\n",
    "\n",
    "\n",
    "# The first half of the elements of the list are string of negative reviews, and the second half positive ones\n",
    "# We create the labels, as an array of [1,len(texts)], filled with 1, and change the first half to 0\n",
    "train_labels = np.ones(len(train_texts), dtype=int)\n",
    "train_labels[:len(train_texts_neg)] = 0.\n",
    "\n",
    "\n",
    "test_labels = np.ones(len(test_texts), dtype=np.int)\n",
    "test_labels[:len(test_texts_neg)] = 0."
   ]
  },
  {
   "cell_type": "markdown",
   "metadata": {
    "id": "g2F1biXNv62G"
   },
   "source": [
    "Example of one document:"
   ]
  },
  {
   "cell_type": "code",
   "execution_count": 115,
   "metadata": {
    "colab": {
     "base_uri": "https://localhost:8080/",
     "height": 86
    },
    "id": "2XL0ZBz_uCTX",
    "outputId": "5ae7af2b-e213-4d90-9857-36351bf00be4"
   },
   "outputs": [
    {
     "data": {
      "application/vnd.google.colaboratory.intrinsic+json": {
       "type": "string"
      },
      "text/plain": [
       "\"Story of a man who has unnatural feelings for a pig. Starts out with a opening scene that is a terrific example of absurd comedy. A formal orchestra audience is turned into an insane, violent mob by the crazy chantings of it's singers. Unfortunately it stays absurd the WHOLE time with no general narrative eventually making it just too off putting. Even those from the era should be turned off. The cryptic dialogue would make Shakespeare seem easy to a third grader. On a technical level it's better than you might think with some good cinematography by future great Vilmos Zsigmond. Future stars Sally Kirkland and Frederic Forrest can be seen briefly.\""
      ]
     },
     "execution_count": 115,
     "metadata": {},
     "output_type": "execute_result"
    }
   ],
   "source": [
    "open(\"./aclImdb/train/neg/0_3.txt\", encoding=\"utf8\").read()"
   ]
  },
  {
   "cell_type": "markdown",
   "metadata": {
    "id": "Mad2WjyxwIp_"
   },
   "source": [
    "We can use a function from sklearn, ```train_test_split```, to separate data into training and validation sets:\n",
    "\n"
   ]
  },
  {
   "cell_type": "code",
   "execution_count": 116,
   "metadata": {
    "id": "5VXYzolvv79h"
   },
   "outputs": [],
   "source": [
    "from sklearn.model_selection import train_test_split"
   ]
  },
  {
   "cell_type": "code",
   "execution_count": 117,
   "metadata": {
    "id": "lOZxlsdHwW8s"
   },
   "outputs": [],
   "source": [
    "train_texts_splt, val_texts, train_labels_splt, val_labels = train_test_split(train_texts, train_labels, test_size=.2)"
   ]
  },
  {
   "cell_type": "markdown",
   "metadata": {
    "id": "fTuq86F_w38k"
   },
   "source": [
    "We can now implement our ```TextClassificationDataset``` class, that we will build from:\n",
    "- A list of path to the IMDB files in the training set: ```path_to_file```\n",
    "- A list of the corresponding categories: ```categories```\n",
    "We will add three optional arguments:\n",
    "- First, a way to input a vocabulary (so that we can re-use the training vocabulary on the validation and training ```TextClassificationDataset```). By default, the value of the argument is ```None```.\n",
    "- In order to work with batches, we will need to have sequences of the same size. That can be done via **padding** but we will still need to limit the size of documents (to avoid having batches of huge sequences that are mostly empty because of one very long documents) to a ```max_length```. Let's put it to 100 by default.\n",
    "- Lastly, a ```min_freq``` that indicates how many times a word must appear to be taken in the vocabulary. "
   ]
  },
  {
   "cell_type": "markdown",
   "metadata": {
    "id": "uEv4BW4ow6Qe"
   },
   "source": [
    "The idea behind **padding** is to transform a list of pytorch tensors (of maybe different length) into a two dimensional tensor - which we can see as a batch. The size of the first dimension is the one of the longest tensor - and other are **padded** with a chosen symbol: here, we choose 0. "
   ]
  },
  {
   "cell_type": "code",
   "execution_count": 118,
   "metadata": {
    "id": "5HvjckX8wW_Y"
   },
   "outputs": [],
   "source": [
    "tensor_1 = torch.LongTensor([1, 4, 5])\n",
    "tensor_2 = torch.LongTensor([2])\n",
    "tensor_3 = torch.LongTensor([6, 7])"
   ]
  },
  {
   "cell_type": "code",
   "execution_count": 119,
   "metadata": {
    "colab": {
     "base_uri": "https://localhost:8080/"
    },
    "id": "1TkfZxx6w9E-",
    "outputId": "f62a2c4d-131b-4e7f-8c14-c36f503dc094"
   },
   "outputs": [
    {
     "name": "stdout",
     "output_type": "stream",
     "text": [
      "tensor([[1, 4, 5],\n",
      "        [2, 0, 0],\n",
      "        [6, 7, 0]])\n"
     ]
    }
   ],
   "source": [
    "tensor_padded = pad_sequence([tensor_1, tensor_2, tensor_3], batch_first=True, padding_value = 0)\n",
    "print(tensor_padded)"
   ]
  },
  {
   "cell_type": "code",
   "execution_count": 120,
   "metadata": {
    "id": "o1n5H6RUw9H2"
   },
   "outputs": [],
   "source": [
    "class TextClassificationDataset(Dataset):\n",
    "    def __init__(self, data, categories, vocab = None, max_length = 100, min_freq = 5):\n",
    "        self.data = data      \n",
    "        # Set the maximum length we will keep for the sequences\n",
    "        self.max_length = max_length\n",
    "        \n",
    "        # Allow to import a vocabulary (for valid/test datasets, that will use the training vocabulary)\n",
    "        if vocab is not None:\n",
    "            self.word2idx, self.idx2word = vocab\n",
    "        else:\n",
    "            # If no vocabulary imported, build it (and reverse)\n",
    "            self.word2idx, self.idx2word = self.build_vocab(self.data, min_freq)\n",
    "        \n",
    "        # We then need to tokenize the data .. \n",
    "        tokenized_data = [word_tokenize(elem) for elem in self.data] # To complete\n",
    "        # Transform words into lists of indexes ... (use the .get() method to redirect unknown words to the UNK token)\n",
    "        indexed_data = []\n",
    "        for token in tokenized_data:\n",
    "          idx=[]\n",
    "          for elem in token:\n",
    "            if self.word2idx.get(elem)==None:\n",
    "              idx.append(self.word2idx.get('UNK'))\n",
    "            else:\n",
    "              idx.append(self.word2idx.get(elem))\n",
    "          indexed_data.append(idx)\n",
    "         # To complete\n",
    "        # And transform this list of lists into a list of Pytorch LongTensors\n",
    "        tensor_data =[torch.LongTensor(elem) for elem in indexed_data] # To complete\n",
    "        # And the categories into a FloatTensor\n",
    "        tensor_y = torch.FloatTensor(categories)   # To complete\n",
    "        # To finally cut it when it's above the maximum length\n",
    "        cut_tensor_data =[elem[:max_length] for elem in tensor_data] # To complete\n",
    "        \n",
    "        # Now, we need to use the pad_sequence function to have the whole dataset represented as one tensor,\n",
    "        # containing sequences of the same length. We choose the padding_value to be 0, the we want the\n",
    "        # batch dimension to be the first dimension \n",
    "        self.tensor_data = pad_sequence(cut_tensor_data, batch_first=True, padding_value=0) # To complete\n",
    "        self.tensor_y = tensor_y\n",
    "        \n",
    "    def __len__(self):\n",
    "        return len(self.data)\n",
    "\n",
    "    def __getitem__(self, idx):\n",
    "        # The iterator just gets one particular example with its category\n",
    "        # The dataloader will take care of the shuffling and batching\n",
    "        if torch.is_tensor(idx):\n",
    "            idx = idx.tolist()\n",
    "        return self.tensor_data[idx], self.tensor_y[idx] \n",
    "    \n",
    "    def build_vocab(self, corpus, count_threshold):\n",
    "        \"\"\"\n",
    "        Same as in the previous TP: we want to output word_index, a dictionary containing words \n",
    "        and their corresponding indexes as {word : indexes} \n",
    "        But we also want the reverse, which is a dictionary {indexes: word}\n",
    "        Don't forget to add a UNK token that we need when encountering unknown words\n",
    "        We also choose '0' to represent the padding index, so begin the vocabulary index at 1 ! \n",
    "        \"\"\"\n",
    "        word_counts = {}\n",
    "        # create list of all elements in corpus in corpus\n",
    "        corp=[]\n",
    "        for element in corpus:\n",
    "            corp.append(word_tokenize(element))\n",
    "        for text in corp:\n",
    "            for word in text:\n",
    "                word_counts[word.lower()]=word_counts.get(word.lower(),0)+text.count(word)\n",
    "        keys=sorted(word_counts) #sort the words in alphabetical order \n",
    "        filtered_word_counts = {}\n",
    "        for key in keys:\n",
    "          if (word_counts[key]>=count_threshold): # retrieve words with occurences higher than count_threshold\n",
    "            filtered_word_counts[key]=word_counts[key]\n",
    "        word_index={}\n",
    "        i=1\n",
    "        for key in filtered_word_counts.keys():\n",
    "          word_index[key]=i\n",
    "          i+=1 \n",
    "        word_index['UNK']=i  #adding UNK \n",
    "        idx_word={idx:word for word,idx in word_index.items()}\n",
    "        # To complete\n",
    "        return word_index, idx_word\n",
    "    \n",
    "    def get_vocab(self):\n",
    "        # A simple way to get the training vocab when building the valid/test \n",
    "        return self.word2idx, self.idx2word"
   ]
  },
  {
   "cell_type": "code",
   "execution_count": 121,
   "metadata": {
    "colab": {
     "base_uri": "https://localhost:8080/"
    },
    "id": "CM0NsS3DzYmI",
    "outputId": "ce8e16f8-8191-476f-c32a-58827f33ea75"
   },
   "outputs": [
    {
     "name": "stdout",
     "output_type": "stream",
     "text": [
      "[nltk_data] Downloading package punkt to /root/nltk_data...\n",
      "[nltk_data]   Package punkt is already up-to-date!\n"
     ]
    },
    {
     "data": {
      "text/plain": [
       "True"
      ]
     },
     "execution_count": 121,
     "metadata": {},
     "output_type": "execute_result"
    }
   ],
   "source": [
    "import nltk\n",
    "nltk.download('punkt')"
   ]
  },
  {
   "cell_type": "code",
   "execution_count": 122,
   "metadata": {
    "id": "QwA5Jxm3w9Kw"
   },
   "outputs": [],
   "source": [
    "training_dataset = TextClassificationDataset(train_texts_splt, train_labels_splt)\n",
    "training_word2idx, training_idx2word = training_dataset.get_vocab()"
   ]
  },
  {
   "cell_type": "code",
   "execution_count": 123,
   "metadata": {
    "id": "HBD-W4fzw9NR"
   },
   "outputs": [],
   "source": [
    "valid_dataset = TextClassificationDataset(val_texts, val_labels, (training_word2idx, training_idx2word))"
   ]
  },
  {
   "cell_type": "code",
   "execution_count": 124,
   "metadata": {
    "id": "n3ei2xd6JnvS"
   },
   "outputs": [],
   "source": [
    "test_dataset = TextClassificationDataset(test_texts, test_labels, (training_word2idx, training_idx2word))"
   ]
  },
  {
   "cell_type": "code",
   "execution_count": 125,
   "metadata": {
    "id": "FvWlJpbRw9Pt"
   },
   "outputs": [],
   "source": [
    "training_dataloader = DataLoader(training_dataset, batch_size = 200, shuffle=True)\n",
    "valid_dataloader = DataLoader(valid_dataset, batch_size = 25)\n",
    "test_dataloader = DataLoader(test_dataset, batch_size = 25)"
   ]
  },
  {
   "cell_type": "code",
   "execution_count": 126,
   "metadata": {
    "colab": {
     "base_uri": "https://localhost:8080/"
    },
    "id": "LidGZUp-w9SN",
    "outputId": "2d7e9928-89f0-4eb7-e53e-bfc50cbb6832"
   },
   "outputs": [
    {
     "name": "stdout",
     "output_type": "stream",
     "text": [
      "(tensor([30400, 13611, 13586,   891, 28957, 24439, 10505, 29872,   891, 16349,\n",
      "        19085, 14108,   385, 30400,   355,  9453,  1799, 15809, 27155, 29023,\n",
      "        29321, 17960,   385, 30400, 21171, 12656, 21169,   891, 24439, 10505,\n",
      "        19085,  9780, 21560, 27147,  4585, 18825,  3045,  5970, 27489,  1995,\n",
      "        19397, 24439, 10505, 27147, 30400, 12703, 23932,   385, 30400, 12703,\n",
      "        21836, 27262, 10505,  2421, 27155, 13035, 20786, 21840,   385, 30400,\n",
      "         1627, 22052, 27147, 14601, 14560, 24493, 27489, 19119, 16776,  1799,\n",
      "         4408, 20078, 13883,  1995,  9618,   385, 30400,  5877, 19415, 19085,\n",
      "        14601, 14560, 27155, 10079, 27147, 20078, 29872, 13620,  2162, 18583,\n",
      "        16136, 27489,   355, 27169, 29165, 14560, 18583, 12781,   385, 30400]), tensor(1.))\n"
     ]
    }
   ],
   "source": [
    "print(valid_dataset[1])"
   ]
  },
  {
   "cell_type": "code",
   "execution_count": 127,
   "metadata": {
    "colab": {
     "base_uri": "https://localhost:8080/"
    },
    "id": "891JXUwPw9Ux",
    "outputId": "4d4eb6bc-b744-451a-8c10-56e274e7b431"
   },
   "outputs": [
    {
     "name": "stdout",
     "output_type": "stream",
     "text": [
      "torch.Size([200, 100])\n",
      "torch.Size([200])\n"
     ]
    }
   ],
   "source": [
    "example_batch = next(iter(training_dataloader))\n",
    "print(example_batch[0].size())\n",
    "print(example_batch[1].size())"
   ]
  },
  {
   "cell_type": "markdown",
   "metadata": {
    "id": "7n9XkuTs0GKT"
   },
   "source": [
    "### A simple averaging model\n",
    "\n",
    "Now, we will implement in Pytorch what we did in the previous TP: a simple averaging model. For each model we will implement, we need to create a class which inherits from ```nn.Module``` and redifine the ```__init__``` method as well as the ```forward``` method."
   ]
  },
  {
   "cell_type": "code",
   "execution_count": 128,
   "metadata": {
    "id": "wCmyWWQq0LDS"
   },
   "outputs": [],
   "source": [
    "# Models are usually implemented as custom nn.Module subclass\n",
    "# We need to redefine the __init__ method, which creates the object\n",
    "# We also need to redefine the forward method, which transform the input into outputs\n",
    "\n",
    "class AveragingModel(nn.Module):    \n",
    "    def __init__(self, embedding_dim, vocabulary_size):\n",
    "        super().__init__()\n",
    "        # Create an embedding object. Be careful to padding - you need to increase the vocabulary size by one !\n",
    "        # Look into the arguments of the nn.Embedding class\n",
    "        self.embeddings = nn.Embedding(num_embeddings=vocabulary_size+1,embedding_dim=embedding_dim) # To complete\n",
    "        # Create a linear layer that will transform the mean of the embeddings into a classification score\n",
    "        self.linear = nn.Linear(in_features=embedding_dim,out_features=1) # To complete\n",
    "        \n",
    "        # No need for sigmoid, it will be into the criterion ! \n",
    "        \n",
    "    def forward(self, inputs):\n",
    "        # Remember: the inpts are written as Batch_size * seq_length * embedding_dim\n",
    "        # First, take the mean of the embeddings of the document\n",
    "        x =  torch.mean(self.embeddings(inputs),1) # To complete\n",
    "        # Then make it go through the linear layer and remove the extra dimension with the method .squeeze()\n",
    "        o = self.linear(x)\n",
    "        o = torch.squeeze(o,1)# To complete\n",
    "        return o"
   ]
  },
  {
   "cell_type": "code",
   "execution_count": 129,
   "metadata": {
    "id": "5VH2C2rE0FR_"
   },
   "outputs": [],
   "source": [
    "import torch.optim as optim"
   ]
  },
  {
   "cell_type": "code",
   "execution_count": 130,
   "metadata": {
    "id": "wZp4RDMW0LGX"
   },
   "outputs": [],
   "source": [
    "model = AveragingModel(300, len(training_word2idx))\n",
    "# Create an optimizer\n",
    "opt = optim.Adam(model.parameters(), lr=0.0025, betas=(0.9, 0.999))\n",
    "# The criterion is a binary cross entropy loss based on logits - meaning that the sigmoid is integrated into the criterion\n",
    "criterion = nn.BCEWithLogitsLoss()"
   ]
  },
  {
   "cell_type": "code",
   "execution_count": 131,
   "metadata": {
    "id": "JM9MFRVQ0LJh"
   },
   "outputs": [],
   "source": [
    "# Implement a training function, which will train the model with the corresponding optimizer and criterion,\n",
    "# with the appropriate dataloader, for one epoch.\n",
    "\n",
    "def train_epoch(model, opt, criterion, dataloader):\n",
    "    model.train()\n",
    "    losses = []\n",
    "    for i, (x, y) in enumerate(dataloader):\n",
    "        opt.zero_grad()\n",
    "        # (1) Forward\n",
    "        pred = model.forward(x)# To complete\n",
    "        # (2) Compute the loss \n",
    "        loss = criterion(pred,y) # To complete\n",
    "        # (3) Compute gradients with the criterion\n",
    "        loss.backward() # To complete\n",
    "        # (4) Update weights with the optimizer\n",
    "        opt.step() # To complete       \n",
    "        losses.append(loss.item())\n",
    "        # Count the number of correct predictions in the batch - here, you'll need to use the sigmoid\n",
    "        act = torch.sigmoid(pred)\n",
    "        thresh = torch.tensor([0.5])\n",
    "        postact = (act>thresh).float() \n",
    "        num_corrects = sum(y==postact) # To complete\n",
    "        acc = 100.0 * num_corrects/len(y)\n",
    "        \n",
    "        if (i%20 == 0):\n",
    "            print(\"Batch \" + str(i) + \" : training loss = \" + str(loss.item()) + \"; training acc = \" + str(acc.item()))\n",
    "    return losses"
   ]
  },
  {
   "cell_type": "code",
   "execution_count": 132,
   "metadata": {
    "id": "vz82AFmL0LMx"
   },
   "outputs": [],
   "source": [
    "# Same for the evaluation ! We don't need the optimizer here. \n",
    "def eval_model(model, criterion, evalloader):\n",
    "    model.eval()\n",
    "    total_epoch_loss = 0\n",
    "    total_epoch_acc = 0\n",
    "    with torch.no_grad():\n",
    "        for i, (x, y) in enumerate(evalloader):\n",
    "            pred = model.forward(x) # To complete\n",
    "            loss = criterion(pred,y) # To complete\n",
    "            act = torch.sigmoid(pred)\n",
    "            thresh = torch.tensor([0.5])\n",
    "            postact = (act>thresh).float() \n",
    "            num_corrects = sum(y==postact) # To complete\n",
    "            acc = 100.0 * num_corrects/len(y)\n",
    "            total_epoch_loss += loss.item()\n",
    "            total_epoch_acc += acc.item()\n",
    "\n",
    "    return total_epoch_loss/(i+1), total_epoch_acc/(i+1)"
   ]
  },
  {
   "cell_type": "code",
   "execution_count": 133,
   "metadata": {
    "id": "J8grPth70ZyO"
   },
   "outputs": [],
   "source": [
    "# A function which will help you execute experiments rapidly - with a early_stopping option when necessary. \n",
    "def experiment(model, opt, criterion, num_epochs = 5, early_stopping = True):\n",
    "    train_losses = []\n",
    "    if early_stopping: \n",
    "        best_valid_loss = 10. \n",
    "    print(\"Beginning training...\")\n",
    "    for e in range(num_epochs):\n",
    "        print(\"Epoch \" + str(e+1) + \":\")\n",
    "        train_losses += train_epoch(model, opt, criterion, training_dataloader)\n",
    "        valid_loss, valid_acc = eval_model(model, criterion, valid_dataloader)\n",
    "        print(\"Epoch \" + str(e+1) + \" : Validation loss = \" + str(valid_loss) + \"; Validation acc = \" + str(valid_acc))\n",
    "        if early_stopping:\n",
    "            if valid_loss < best_valid_loss:\n",
    "                best_valid_loss = valid_loss\n",
    "            else:\n",
    "                print(\"Early stopping.\")\n",
    "                break  \n",
    "    test_loss, test_acc = eval_model(model, criterion, test_dataloader)\n",
    "    print(\"Epoch \" + str(e+1) + \" : Test loss = \" + str(test_loss) + \"; Test acc = \" + str(test_acc))\n",
    "    return train_losses"
   ]
  },
  {
   "cell_type": "code",
   "execution_count": 134,
   "metadata": {
    "colab": {
     "base_uri": "https://localhost:8080/"
    },
    "id": "UZvgnfo10Z1i",
    "outputId": "5f0391e8-cb02-4195-d150-9c3ca2ca20a8"
   },
   "outputs": [
    {
     "name": "stdout",
     "output_type": "stream",
     "text": [
      "Beginning training...\n",
      "Epoch 1:\n",
      "Batch 0 : training loss = 0.6875598430633545; training acc = 51.0\n",
      "Batch 20 : training loss = 0.6658899188041687; training acc = 63.5\n",
      "Batch 40 : training loss = 0.6528089046478271; training acc = 61.5\n",
      "Batch 60 : training loss = 0.6415906548500061; training acc = 67.5\n",
      "Batch 80 : training loss = 0.6384377479553223; training acc = 64.5\n",
      "Epoch 1 : Validation loss = 0.5903301857411861; Validation acc = 70.6\n",
      "Epoch 2:\n",
      "Batch 0 : training loss = 0.5767549872398376; training acc = 70.5\n",
      "Batch 20 : training loss = 0.5687955021858215; training acc = 71.0\n",
      "Batch 40 : training loss = 0.5217137336730957; training acc = 73.0\n",
      "Batch 60 : training loss = 0.47889217734336853; training acc = 78.0\n",
      "Batch 80 : training loss = 0.5111755728721619; training acc = 75.0\n",
      "Epoch 2 : Validation loss = 0.484231698513031; Validation acc = 77.24\n",
      "Epoch 3:\n",
      "Batch 0 : training loss = 0.40466904640197754; training acc = 84.0\n",
      "Batch 20 : training loss = 0.3921705484390259; training acc = 87.5\n",
      "Batch 40 : training loss = 0.473042368888855; training acc = 77.0\n",
      "Batch 60 : training loss = 0.3839077353477478; training acc = 83.5\n",
      "Batch 80 : training loss = 0.3992343842983246; training acc = 83.0\n",
      "Epoch 3 : Validation loss = 0.4343197526782751; Validation acc = 80.36\n",
      "Epoch 4:\n",
      "Batch 0 : training loss = 0.41822555661201477; training acc = 80.5\n",
      "Batch 20 : training loss = 0.387282133102417; training acc = 86.5\n",
      "Batch 40 : training loss = 0.3653244078159332; training acc = 84.5\n",
      "Batch 60 : training loss = 0.38455402851104736; training acc = 86.5\n",
      "Batch 80 : training loss = 0.31332510709762573; training acc = 87.5\n",
      "Epoch 4 : Validation loss = 0.41114073522388933; Validation acc = 82.0\n",
      "Epoch 5:\n",
      "Batch 0 : training loss = 0.33735233545303345; training acc = 86.0\n",
      "Batch 20 : training loss = 0.29645881056785583; training acc = 89.0\n",
      "Batch 40 : training loss = 0.31357598304748535; training acc = 87.0\n",
      "Batch 60 : training loss = 0.30837494134902954; training acc = 87.5\n",
      "Batch 80 : training loss = 0.32562264800071716; training acc = 85.5\n",
      "Epoch 5 : Validation loss = 0.4038146585971117; Validation acc = 81.92\n",
      "Epoch 5 : Test loss = 0.41764744424819944; Test acc = 80.556\n"
     ]
    }
   ],
   "source": [
    "train_losses = experiment(model, opt, criterion)"
   ]
  },
  {
   "cell_type": "code",
   "execution_count": 135,
   "metadata": {
    "colab": {
     "base_uri": "https://localhost:8080/",
     "height": 282
    },
    "id": "m-CIwDga0Z7q",
    "outputId": "ebdb3218-341d-4f87-8c3d-c93b1d3d4635"
   },
   "outputs": [
    {
     "data": {
      "text/plain": [
       "[<matplotlib.lines.Line2D at 0x7ff936b4b0d0>]"
      ]
     },
     "execution_count": 135,
     "metadata": {},
     "output_type": "execute_result"
    },
    {
     "data": {
      "image/png": "[encoded data removed]",
      "text/plain": [
       "<Figure size 432x288 with 1 Axes>"
      ]
     },
     "metadata": {
      "needs_background": "light"
     },
     "output_type": "display_data"
    }
   ],
   "source": [
    "import matplotlib.pyplot as plt\n",
    "plt.plot(train_losses)"
   ]
  },
  {
   "cell_type": "markdown",
   "metadata": {
    "id": "kp8d-0N7JPlR"
   },
   "source": [
    "### With Glove embeddings: \n",
    "\n",
    "Now, we would like to integrate pre-trained word embeddings into our model ! Let's use again the functions that we used in the previous TP:"
   ]
  },
  {
   "cell_type": "code",
   "execution_count": 136,
   "metadata": {
    "id": "RUa7xjDv0Z-0"
   },
   "outputs": [],
   "source": [
    "import gensim.downloader as api\n",
    "loaded_glove_model = api.load(\"glove-wiki-gigaword-300\")\n",
    "loaded_glove_embeddings = loaded_glove_model.vectors"
   ]
  },
  {
   "cell_type": "code",
   "execution_count": 137,
   "metadata": {
    "id": "unwB2-4r0aBg"
   },
   "outputs": [],
   "source": [
    "def get_glove_adapted_embeddings(glove_model, input_voc):\n",
    "    keys = {i: glove_model.vocab.get(w, None) for w, i in input_voc.items()}\n",
    "    index_dict = {i: key.index for i, key in keys.items() if key is not None}\n",
    "    embeddings = np.zeros((len(input_voc)+1,glove_model.vectors.shape[1]))\n",
    "    for i, ind in index_dict.items():\n",
    "        embeddings[i] = glove_model.vectors[ind]\n",
    "    return embeddings\n",
    "\n",
    "GloveEmbeddings = get_glove_adapted_embeddings(loaded_glove_model, training_word2idx)"
   ]
  },
  {
   "cell_type": "code",
   "execution_count": 138,
   "metadata": {
    "colab": {
     "base_uri": "https://localhost:8080/"
    },
    "id": "dhoS6NH20aEU",
    "outputId": "95af9463-62cc-49f2-9e07-d58ad467972e"
   },
   "outputs": [
    {
     "name": "stdout",
     "output_type": "stream",
     "text": [
      "(30401, 300)\n",
      "[0. 0. 0. 0. 0. 0. 0. 0. 0. 0. 0. 0. 0. 0. 0. 0. 0. 0. 0. 0. 0. 0. 0. 0.\n",
      " 0. 0. 0. 0. 0. 0. 0. 0. 0. 0. 0. 0. 0. 0. 0. 0. 0. 0. 0. 0. 0. 0. 0. 0.\n",
      " 0. 0. 0. 0. 0. 0. 0. 0. 0. 0. 0. 0. 0. 0. 0. 0. 0. 0. 0. 0. 0. 0. 0. 0.\n",
      " 0. 0. 0. 0. 0. 0. 0. 0. 0. 0. 0. 0. 0. 0. 0. 0. 0. 0. 0. 0. 0. 0. 0. 0.\n",
      " 0. 0. 0. 0. 0. 0. 0. 0. 0. 0. 0. 0. 0. 0. 0. 0. 0. 0. 0. 0. 0. 0. 0. 0.\n",
      " 0. 0. 0. 0. 0. 0. 0. 0. 0. 0. 0. 0. 0. 0. 0. 0. 0. 0. 0. 0. 0. 0. 0. 0.\n",
      " 0. 0. 0. 0. 0. 0. 0. 0. 0. 0. 0. 0. 0. 0. 0. 0. 0. 0. 0. 0. 0. 0. 0. 0.\n",
      " 0. 0. 0. 0. 0. 0. 0. 0. 0. 0. 0. 0. 0. 0. 0. 0. 0. 0. 0. 0. 0. 0. 0. 0.\n",
      " 0. 0. 0. 0. 0. 0. 0. 0. 0. 0. 0. 0. 0. 0. 0. 0. 0. 0. 0. 0. 0. 0. 0. 0.\n",
      " 0. 0. 0. 0. 0. 0. 0. 0. 0. 0. 0. 0. 0. 0. 0. 0. 0. 0. 0. 0. 0. 0. 0. 0.\n",
      " 0. 0. 0. 0. 0. 0. 0. 0. 0. 0. 0. 0. 0. 0. 0. 0. 0. 0. 0. 0. 0. 0. 0. 0.\n",
      " 0. 0. 0. 0. 0. 0. 0. 0. 0. 0. 0. 0. 0. 0. 0. 0. 0. 0. 0. 0. 0. 0. 0. 0.\n",
      " 0. 0. 0. 0. 0. 0. 0. 0. 0. 0. 0. 0.]\n"
     ]
    }
   ],
   "source": [
    "print(GloveEmbeddings.shape)\n",
    "# We should check that the \"padding\" vector is at zero\n",
    "print(GloveEmbeddings[0])"
   ]
  },
  {
   "cell_type": "markdown",
   "metadata": {
    "id": "SpkmUwA4LjT0"
   },
   "source": [
    "Here, implement a ```PretrainedAveragingModel``` very similar to the previous model, using the ```nn.Embedding``` method ```from_pretrained()``` to initialize the embeddings from a numpy array. Use the ```requires_grad_``` method to specify if the model must fine-tune the embeddings or not ! "
   ]
  },
  {
   "cell_type": "code",
   "execution_count": 139,
   "metadata": {
    "id": "aVh4fz39Lg5c"
   },
   "outputs": [],
   "source": [
    "class PretrainedAveragingModel(nn.Module):\n",
    "\n",
    "    # To complete\n",
    "    def __init__(self, embedding_dim, vocabulary_size,pretrained_embeddings,fine_tuning):\n",
    "      super().__init__()\n",
    "      # Create an embedding object. Be careful to padding - you need to increase the vocabulary size by one !\n",
    "      # Look into the arguments of the nn.Embedding class\n",
    "      self.embeddings = nn.Embedding(num_embeddings=vocabulary_size+1,embedding_dim=embedding_dim)\n",
    "      self.embeddings.from_pretrained(pretrained_embeddings)\n",
    "      self.embeddings.weight.requires_grad=fine_tuning\n",
    "      # To complete\n",
    "      # Create a linear layer that will transform the mean of the embeddings into a classification score\n",
    "      self.linear = nn.Linear(in_features=embedding_dim,out_features=1) # To complete\n",
    "      \n",
    "    # No need for sigmoid, it will be into the criterion ! \n",
    "      \n",
    "    def forward(self, inputs):\n",
    "        # Remember: the inpts are written as Batch_size * seq_length * embedding_dim\n",
    "        # First, take the mean of the embeddings of the document\n",
    "        x =  torch.mean(self.embeddings(inputs),1) # To complete\n",
    "        # Then make it go through the linear layer and remove the extra dimension with the method .squeeze()\n",
    "        o = self.linear(x)\n",
    "        o = torch.squeeze(o,1)# To complete\n",
    "        return o"
   ]
  },
  {
   "cell_type": "markdown",
   "metadata": {
    "id": "rmQUbBVxLtwa"
   },
   "source": [
    "### Questions: \n",
    "- What are the results **with and without fine-tuning of embeddings imported from GloVe** ?\n",
    "- Make hypothesis based on your intuition and the class on how the size of the vocabulary (change the minimum frequency of words to be taken in the vocabular) will impact results, in the three cases (No pre-training, pre-training without fine-tuning, pretraining with fine-tuning).\n",
    "- Verify experiments and analyze your results !"
   ]
  },
  {
   "cell_type": "markdown",
   "metadata": {
    "id": "CeckPMRLQ0bl"
   },
   "source": [
    "### Answers:\n",
    "- Question 1: \n",
    "First we see how the model performance in both cases with and without fine tuning and and see the accuracy.  For the model with fine tuning of embeddings the accuracy is around 80% and for the other case the accuracy is around 64% hence it's preferable to use fine tunign for the embeddings."
   ]
  },
  {
   "cell_type": "code",
   "execution_count": 140,
   "metadata": {
    "id": "xc6i1FXsLil8"
   },
   "outputs": [],
   "source": [
    "model_pre_trained = PretrainedAveragingModel(300, len(training_word2idx), torch.FloatTensor(GloveEmbeddings), True)\n",
    "opt_pre_trained = optim.Adam(model_pre_trained.parameters(), lr=0.0025, betas=(0.9, 0.999))"
   ]
  },
  {
   "cell_type": "code",
   "execution_count": 141,
   "metadata": {
    "colab": {
     "base_uri": "https://localhost:8080/"
    },
    "id": "kzgSTvT5LiqC",
    "outputId": "906e4e21-8ad7-4f14-f919-7ed9e97f9971"
   },
   "outputs": [
    {
     "name": "stdout",
     "output_type": "stream",
     "text": [
      "Beginning training...\n",
      "Epoch 1:\n",
      "Batch 0 : training loss = 0.6962642073631287; training acc = 46.5\n",
      "Batch 20 : training loss = 0.6705306172370911; training acc = 59.0\n",
      "Batch 40 : training loss = 0.6607357859611511; training acc = 63.5\n",
      "Batch 60 : training loss = 0.6471378207206726; training acc = 62.0\n",
      "Batch 80 : training loss = 0.6208449602127075; training acc = 65.5\n",
      "Epoch 1 : Validation loss = 0.5878164991736412; Validation acc = 70.9\n",
      "Epoch 2:\n",
      "Batch 0 : training loss = 0.5734273195266724; training acc = 74.0\n",
      "Batch 20 : training loss = 0.5294613838195801; training acc = 77.5\n",
      "Batch 40 : training loss = 0.521213948726654; training acc = 73.5\n",
      "Batch 60 : training loss = 0.4666953384876251; training acc = 85.0\n",
      "Batch 80 : training loss = 0.44364508986473083; training acc = 80.0\n",
      "Epoch 2 : Validation loss = 0.4794988740980625; Validation acc = 77.98\n",
      "Epoch 3:\n",
      "Batch 0 : training loss = 0.461027055978775; training acc = 77.5\n",
      "Batch 20 : training loss = 0.3591149151325226; training acc = 88.5\n",
      "Batch 40 : training loss = 0.37723469734191895; training acc = 83.5\n",
      "Batch 60 : training loss = 0.3910950720310211; training acc = 83.0\n",
      "Batch 80 : training loss = 0.4034411609172821; training acc = 83.5\n",
      "Epoch 3 : Validation loss = 0.4319386023283005; Validation acc = 80.34\n",
      "Epoch 4:\n",
      "Batch 0 : training loss = 0.3661767840385437; training acc = 86.0\n",
      "Batch 20 : training loss = 0.3356045186519623; training acc = 83.5\n",
      "Batch 40 : training loss = 0.3761671185493469; training acc = 87.5\n",
      "Batch 60 : training loss = 0.3542238473892212; training acc = 83.5\n",
      "Batch 80 : training loss = 0.3836372494697571; training acc = 83.5\n",
      "Epoch 4 : Validation loss = 0.41075624860823157; Validation acc = 81.44\n",
      "Epoch 5:\n",
      "Batch 0 : training loss = 0.24020393192768097; training acc = 93.5\n",
      "Batch 20 : training loss = 0.2741692066192627; training acc = 91.0\n",
      "Batch 40 : training loss = 0.323938250541687; training acc = 88.0\n",
      "Batch 60 : training loss = 0.30488139390945435; training acc = 86.0\n",
      "Batch 80 : training loss = 0.27260100841522217; training acc = 88.0\n",
      "Epoch 5 : Validation loss = 0.40701479054987433; Validation acc = 81.62\n",
      "Epoch 5 : Test loss = 0.42173522467166186; Test acc = 80.42\n"
     ]
    }
   ],
   "source": [
    "train_losses = experiment(model_pre_trained, opt_pre_trained, criterion)"
   ]
  },
  {
   "cell_type": "code",
   "execution_count": 142,
   "metadata": {
    "id": "5uqhJLPYRUIc"
   },
   "outputs": [],
   "source": [
    "model_pre_trained_nft = PretrainedAveragingModel(300, len(training_word2idx), torch.FloatTensor(GloveEmbeddings), False)\n",
    "opt_pre_trained_nft = optim.Adam(model_pre_trained_nft.parameters(), lr=0.0025, betas=(0.9, 0.999))"
   ]
  },
  {
   "cell_type": "code",
   "execution_count": 143,
   "metadata": {
    "colab": {
     "base_uri": "https://localhost:8080/"
    },
    "id": "vP3ao-KJRUrm",
    "outputId": "50b73b3e-f67e-4459-a18e-4308a98b1b65"
   },
   "outputs": [
    {
     "name": "stdout",
     "output_type": "stream",
     "text": [
      "Beginning training...\n",
      "Epoch 1:\n",
      "Batch 0 : training loss = 0.6921160221099854; training acc = 51.5\n",
      "Batch 20 : training loss = 0.6844194531440735; training acc = 55.0\n",
      "Batch 40 : training loss = 0.6723666191101074; training acc = 59.0\n",
      "Batch 60 : training loss = 0.6564856171607971; training acc = 68.0\n",
      "Batch 80 : training loss = 0.6732418537139893; training acc = 59.0\n",
      "Epoch 1 : Validation loss = 0.6605563509464264; Validation acc = 62.1\n",
      "Epoch 2:\n",
      "Batch 0 : training loss = 0.6492192149162292; training acc = 66.0\n",
      "Batch 20 : training loss = 0.6563282608985901; training acc = 62.5\n",
      "Batch 40 : training loss = 0.6522363424301147; training acc = 60.5\n",
      "Batch 60 : training loss = 0.6676753759384155; training acc = 59.5\n",
      "Batch 80 : training loss = 0.6489816904067993; training acc = 63.5\n",
      "Epoch 2 : Validation loss = 0.644969584941864; Validation acc = 63.36\n",
      "Epoch 3:\n",
      "Batch 0 : training loss = 0.6397472023963928; training acc = 67.0\n",
      "Batch 20 : training loss = 0.6328880786895752; training acc = 63.5\n",
      "Batch 40 : training loss = 0.6680650115013123; training acc = 61.0\n",
      "Batch 60 : training loss = 0.640434205532074; training acc = 64.5\n",
      "Batch 80 : training loss = 0.6383851766586304; training acc = 63.5\n",
      "Epoch 3 : Validation loss = 0.6348406797647477; Validation acc = 64.48\n",
      "Epoch 4:\n",
      "Batch 0 : training loss = 0.6344886422157288; training acc = 65.5\n",
      "Batch 20 : training loss = 0.645373523235321; training acc = 61.5\n",
      "Batch 40 : training loss = 0.6331596374511719; training acc = 63.5\n",
      "Batch 60 : training loss = 0.6219953298568726; training acc = 70.0\n",
      "Batch 80 : training loss = 0.6209457516670227; training acc = 67.0\n",
      "Epoch 4 : Validation loss = 0.628070832490921; Validation acc = 65.14\n",
      "Epoch 5:\n",
      "Batch 0 : training loss = 0.6137679219245911; training acc = 67.5\n",
      "Batch 20 : training loss = 0.6115068793296814; training acc = 71.0\n",
      "Batch 40 : training loss = 0.6229590773582458; training acc = 66.5\n",
      "Batch 60 : training loss = 0.6262285113334656; training acc = 64.5\n",
      "Batch 80 : training loss = 0.607313334941864; training acc = 64.5\n",
      "Epoch 5 : Validation loss = 0.6209728905558586; Validation acc = 66.16\n",
      "Epoch 5 : Test loss = 0.625051748663187; Test acc = 65.632\n"
     ]
    }
   ],
   "source": [
    "train_losses = experiment(model_pre_trained_nft, opt_pre_trained_nft, criterion)"
   ]
  },
  {
   "cell_type": "markdown",
   "metadata": {
    "id": "Nb5Lg2LKSfRZ"
   },
   "source": [
    "- Question 2:\n",
    "The hypothesis is that the model with pretraining and fine tuning will perform the best afterwards comes the model without pretraining and lastely the model with pretraining and without fine tuning .\n",
    "- Question 3 :  \n",
    "Let's veify with experiments"
   ]
  },
  {
   "cell_type": "code",
   "execution_count": 144,
   "metadata": {
    "id": "pu4SX_9sTCUG"
   },
   "outputs": [],
   "source": [
    "training_dataset = TextClassificationDataset(train_texts_splt, train_labels_splt,vocab=None,max_length=100,min_freq=3)\n",
    "training_word2idx, training_idx2word = training_dataset.get_vocab()\n",
    "valid_dataset = TextClassificationDataset(val_texts, val_labels, (training_word2idx, training_idx2word))\n",
    "test_dataset = TextClassificationDataset(test_texts, test_labels, (training_word2idx, training_idx2word))\n",
    "training_dataloader = DataLoader(training_dataset, batch_size = 200, shuffle=True)\n",
    "valid_dataloader = DataLoader(valid_dataset, batch_size = 25)\n",
    "test_dataloader = DataLoader(test_dataset, batch_size = 25)"
   ]
  },
  {
   "cell_type": "code",
   "execution_count": 145,
   "metadata": {
    "colab": {
     "base_uri": "https://localhost:8080/"
    },
    "id": "aR2g6GYyUNvR",
    "outputId": "ed19d28c-11df-4700-bd7d-ea0a0c836519"
   },
   "outputs": [
    {
     "name": "stdout",
     "output_type": "stream",
     "text": [
      "training of the first model\n",
      "Beginning training...\n",
      "Epoch 1:\n",
      "Batch 0 : training loss = 0.6943073272705078; training acc = 49.0\n",
      "Batch 20 : training loss = 0.677934467792511; training acc = 60.5\n",
      "Batch 40 : training loss = 0.6514567732810974; training acc = 64.5\n",
      "Batch 60 : training loss = 0.6514293551445007; training acc = 65.0\n",
      "Batch 80 : training loss = 0.6258934140205383; training acc = 66.5\n",
      "Epoch 1 : Validation loss = 0.5904079723358154; Validation acc = 70.72\n",
      "Epoch 2:\n",
      "Batch 0 : training loss = 0.5655824542045593; training acc = 72.0\n",
      "Batch 20 : training loss = 0.5673685669898987; training acc = 76.0\n",
      "Batch 40 : training loss = 0.5074443817138672; training acc = 77.0\n",
      "Batch 60 : training loss = 0.4943917393684387; training acc = 78.5\n",
      "Batch 80 : training loss = 0.464786171913147; training acc = 80.0\n",
      "Epoch 2 : Validation loss = 0.48243452414870264; Validation acc = 77.7\n",
      "Epoch 3:\n",
      "Batch 0 : training loss = 0.4152941107749939; training acc = 82.0\n",
      "Batch 20 : training loss = 0.39293792843818665; training acc = 84.5\n",
      "Batch 40 : training loss = 0.4316692352294922; training acc = 83.0\n",
      "Batch 60 : training loss = 0.3654521107673645; training acc = 86.5\n",
      "Batch 80 : training loss = 0.4290183186531067; training acc = 80.5\n",
      "Epoch 3 : Validation loss = 0.43288489304482936; Validation acc = 80.78\n",
      "Epoch 4:\n",
      "Batch 0 : training loss = 0.3380264639854431; training acc = 90.0\n",
      "Batch 20 : training loss = 0.3678502142429352; training acc = 85.0\n",
      "Batch 40 : training loss = 0.337083637714386; training acc = 85.5\n",
      "Batch 60 : training loss = 0.35075509548187256; training acc = 86.5\n",
      "Batch 80 : training loss = 0.37407082319259644; training acc = 84.0\n",
      "Epoch 4 : Validation loss = 0.4119651056081057; Validation acc = 81.82\n",
      "Epoch 5:\n",
      "Batch 0 : training loss = 0.3123982548713684; training acc = 88.0\n",
      "Batch 20 : training loss = 0.32817694544792175; training acc = 87.5\n",
      "Batch 40 : training loss = 0.32266682386398315; training acc = 86.5\n",
      "Batch 60 : training loss = 0.287130206823349; training acc = 87.0\n",
      "Batch 80 : training loss = 0.2369142323732376; training acc = 92.5\n",
      "Epoch 5 : Validation loss = 0.40822671934962274; Validation acc = 82.28\n",
      "Epoch 5 : Test loss = 0.4206255148500204; Test acc = 80.584\n",
      "training of the second model\n",
      "Beginning training...\n",
      "Epoch 1:\n",
      "Batch 0 : training loss = 0.6988751292228699; training acc = 46.0\n",
      "Batch 20 : training loss = 0.664050281047821; training acc = 60.0\n",
      "Batch 40 : training loss = 0.6668422222137451; training acc = 65.0\n",
      "Batch 60 : training loss = 0.6442486643791199; training acc = 64.5\n",
      "Batch 80 : training loss = 0.6278661489486694; training acc = 66.0\n",
      "Epoch 1 : Validation loss = 0.5961234012246132; Validation acc = 69.96\n",
      "Epoch 2:\n",
      "Batch 0 : training loss = 0.5989808440208435; training acc = 69.5\n",
      "Batch 20 : training loss = 0.5566195249557495; training acc = 72.5\n",
      "Batch 40 : training loss = 0.5069772601127625; training acc = 80.0\n",
      "Batch 60 : training loss = 0.5129135251045227; training acc = 74.5\n",
      "Batch 80 : training loss = 0.47311288118362427; training acc = 80.0\n",
      "Epoch 2 : Validation loss = 0.48737879395484923; Validation acc = 77.76\n",
      "Epoch 3:\n",
      "Batch 0 : training loss = 0.44727325439453125; training acc = 81.0\n",
      "Batch 20 : training loss = 0.40011370182037354; training acc = 83.0\n",
      "Batch 40 : training loss = 0.44509658217430115; training acc = 79.5\n",
      "Batch 60 : training loss = 0.4007328450679779; training acc = 81.5\n",
      "Batch 80 : training loss = 0.3826828896999359; training acc = 87.0\n",
      "Epoch 3 : Validation loss = 0.4335726495832205; Validation acc = 80.2\n",
      "Epoch 4:\n",
      "Batch 0 : training loss = 0.33870697021484375; training acc = 88.5\n",
      "Batch 20 : training loss = 0.35707396268844604; training acc = 86.5\n",
      "Batch 40 : training loss = 0.3769683837890625; training acc = 88.0\n",
      "Batch 60 : training loss = 0.3516511023044586; training acc = 86.0\n",
      "Batch 80 : training loss = 0.3206864595413208; training acc = 86.0\n",
      "Epoch 4 : Validation loss = 0.4122762180119753; Validation acc = 81.36\n",
      "Epoch 5:\n",
      "Batch 0 : training loss = 0.33507663011550903; training acc = 86.0\n",
      "Batch 20 : training loss = 0.2780224680900574; training acc = 89.5\n",
      "Batch 40 : training loss = 0.2771388292312622; training acc = 91.5\n",
      "Batch 60 : training loss = 0.2668565809726715; training acc = 90.0\n",
      "Batch 80 : training loss = 0.2602178752422333; training acc = 91.0\n",
      "Epoch 5 : Validation loss = 0.40500351510941984; Validation acc = 81.82\n",
      "Epoch 5 : Test loss = 0.41728157211095096; Test acc = 80.736\n",
      "training of the third model\n",
      "Beginning training...\n",
      "Epoch 1:\n",
      "Batch 0 : training loss = 0.686410665512085; training acc = 57.5\n",
      "Batch 20 : training loss = 0.6674253344535828; training acc = 65.0\n",
      "Batch 40 : training loss = 0.6742547750473022; training acc = 59.0\n",
      "Batch 60 : training loss = 0.6464108228683472; training acc = 69.0\n",
      "Batch 80 : training loss = 0.6788122653961182; training acc = 56.5\n",
      "Epoch 1 : Validation loss = 0.6588032957911492; Validation acc = 62.1\n",
      "Epoch 2:\n",
      "Batch 0 : training loss = 0.6353784203529358; training acc = 68.0\n",
      "Batch 20 : training loss = 0.6541621685028076; training acc = 61.0\n",
      "Batch 40 : training loss = 0.6497316956520081; training acc = 63.5\n",
      "Batch 60 : training loss = 0.6347500681877136; training acc = 63.5\n",
      "Batch 80 : training loss = 0.6628239154815674; training acc = 59.0\n",
      "Epoch 2 : Validation loss = 0.6440737733244896; Validation acc = 63.7\n",
      "Epoch 3:\n",
      "Batch 0 : training loss = 0.6445388793945312; training acc = 64.0\n",
      "Batch 20 : training loss = 0.6392732858657837; training acc = 63.0\n",
      "Batch 40 : training loss = 0.6435306072235107; training acc = 62.5\n",
      "Batch 60 : training loss = 0.6490952968597412; training acc = 61.0\n",
      "Batch 80 : training loss = 0.6238171458244324; training acc = 65.5\n",
      "Epoch 3 : Validation loss = 0.6352749010920524; Validation acc = 64.42\n",
      "Epoch 4:\n",
      "Batch 0 : training loss = 0.6222201585769653; training acc = 69.5\n",
      "Batch 20 : training loss = 0.6196454167366028; training acc = 66.5\n",
      "Batch 40 : training loss = 0.628915548324585; training acc = 66.5\n",
      "Batch 60 : training loss = 0.6192181706428528; training acc = 68.0\n",
      "Batch 80 : training loss = 0.6154386401176453; training acc = 66.5\n",
      "Epoch 4 : Validation loss = 0.6284211254119874; Validation acc = 65.14\n",
      "Epoch 5:\n",
      "Batch 0 : training loss = 0.6147014498710632; training acc = 66.5\n",
      "Batch 20 : training loss = 0.6205289363861084; training acc = 70.0\n",
      "Batch 40 : training loss = 0.6118730306625366; training acc = 70.5\n",
      "Batch 60 : training loss = 0.6245377659797668; training acc = 66.0\n",
      "Batch 80 : training loss = 0.6419245004653931; training acc = 61.5\n",
      "Epoch 5 : Validation loss = 0.621008780002594; Validation acc = 65.68\n",
      "Epoch 5 : Test loss = 0.6263118551075458; Test acc = 65.124\n"
     ]
    }
   ],
   "source": [
    "model = AveragingModel(300, len(training_word2idx))\n",
    "# Create an optimizer\n",
    "opt = optim.Adam(model.parameters(), lr=0.0025, betas=(0.9, 0.999))\n",
    "# The criterion is a binary cross entropy loss based on logits - meaning that the sigmoid is integrated into the criterion\n",
    "criterion = nn.BCEWithLogitsLoss()\n",
    "print(\"training of the first model\")\n",
    "train_losses = experiment(model, opt, criterion) # first loss\n",
    "\n",
    "GloveEmbeddings = get_glove_adapted_embeddings(loaded_glove_model, training_word2idx)\n",
    "\n",
    "model_pre_trained = PretrainedAveragingModel(300, len(training_word2idx), torch.FloatTensor(GloveEmbeddings), True)\n",
    "opt_pre_trained = optim.Adam(model_pre_trained.parameters(), lr=0.0025, betas=(0.9, 0.999))\n",
    "print(\"training of the second model\")\n",
    "train_losses_2 = experiment(model_pre_trained, opt_pre_trained, criterion) #2nd loss\n",
    "\n",
    "model_pre_trained_nft = PretrainedAveragingModel(300, len(training_word2idx), torch.FloatTensor(GloveEmbeddings), False)\n",
    "opt_pre_trained_nft = optim.Adam(model_pre_trained_nft.parameters(), lr=0.0025, betas=(0.9, 0.999))\n",
    "print(\"training of the third model\")\n",
    "train_losses_3 = experiment(model_pre_trained_nft, opt_pre_trained_nft, criterion) # 3rd loss"
   ]
  },
  {
   "cell_type": "code",
   "execution_count": 146,
   "metadata": {
    "colab": {
     "base_uri": "https://localhost:8080/",
     "height": 879
    },
    "id": "8OR5bpzJU76S",
    "outputId": "dbb8ef54-fbc0-4d66-d896-3eed5306d956"
   },
   "outputs": [
    {
     "data": {
      "image/png": "[encoded data removed]",
      "text/plain": [
       "<Figure size 1080x1080 with 3 Axes>"
      ]
     },
     "metadata": {
      "needs_background": "light"
     },
     "output_type": "display_data"
    }
   ],
   "source": [
    "losses=[train_losses,train_losses_2,train_losses_3]\n",
    "titles=[\"model without pretraining\",\"model with pretraining and fine tuning\",\"model with pretraining and without fine tuning\"]\n",
    "plt.figure(figsize=(15,15))\n",
    "for i in range(3):\n",
    "  plt.subplot(3,1,i+1)\n",
    "  plt.plot(losses[i])\n",
    "  plt.title(titles[i])"
   ]
  },
  {
   "cell_type": "markdown",
   "metadata": {
    "id": "KTl3gbSUMBLw"
   },
   "source": [
    "### LSTM Cells in pytorch"
   ]
  },
  {
   "cell_type": "code",
   "execution_count": 147,
   "metadata": {
    "colab": {
     "base_uri": "https://localhost:8080/"
    },
    "id": "8yaj6nLJMDR4",
    "outputId": "f62b1602-f69d-4c92-c44f-012103444b0e"
   },
   "outputs": [
    {
     "name": "stdout",
     "output_type": "stream",
     "text": [
      "tensor([[[ 0.1631,  0.4016,  0.0330]],\n",
      "\n",
      "        [[-0.0424,  0.0641,  0.1267]],\n",
      "\n",
      "        [[-0.0021, -0.1212,  0.2381]],\n",
      "\n",
      "        [[-0.1243,  0.0638,  0.3248]],\n",
      "\n",
      "        [[-0.1993, -0.1320,  0.4851]]], grad_fn=<StackBackward0>)\n",
      "(tensor([[[-0.1993, -0.1320,  0.4851]]], grad_fn=<StackBackward0>), tensor([[[-0.5081, -0.3095,  0.8846]]], grad_fn=<StackBackward0>))\n"
     ]
    }
   ],
   "source": [
    "# Create a toy example of LSTM: \n",
    "lstm = nn.LSTM(3, 3)  # Input dim is 3, output dim is 3\n",
    "inputs = [torch.randn(1, 3) for _ in range(5)]  # make a sequence of length 5\n",
    "\n",
    "\n",
    "# LSTMs expect inputs having 3 dimensions:\n",
    "# - The first dimension is the temporal dimension, along which we (in our case) have the different words\n",
    "# - The second dimension is the batch dimension, along which we stack the independant batches\n",
    "# - The third dimension is the feature dimension, along which are the features of the vector representing the words\n",
    "\n",
    "# In our toy case, we have inputs and outputs containing 3 features (third dimension !)\n",
    "# We created a sequence of 5 different inputs (first dimension !)\n",
    "# We don't use batch (the second dimension will have one lement)\n",
    "\n",
    "# We need an initial hidden state, of the right sizes for dimension 2/3, but with only one temporal element:\n",
    "# Here, it is:\n",
    "hidden = (torch.randn(1, 1, 3),\n",
    "          torch.randn(1, 1, 3))\n",
    "# Why do we create a tuple of two tensors ? Because we use LSTMs: remember that they use two sets of weights,\n",
    "# and two hidden states (Hidden state, and Cell state).\n",
    "# If you don't remember, read: https://colah.github.io/posts/2015-08-Understanding-LSTMs/\n",
    "# If we used a classic RNN, we would simply have:\n",
    "# hidden = torch.randn(1, 1, 3)\n",
    "\n",
    "# The naive way of applying a lstm to inputs is to apply it one step at a time, and loop through the sequence\n",
    "for i in inputs:\n",
    "    # After each step, hidden contains the hidden states (remember, it's a tuple of two states).\n",
    "    out, hidden = lstm(i.view(1, 1, -1), hidden)\n",
    "    \n",
    "# Alternatively, we can do the entire sequence all at once.\n",
    "# The first value returned by LSTM is all of the Hidden states throughout the sequence.\n",
    "# The second is just the most recent Hidden state and Cell state (you can compare the values)\n",
    "# The reason for this is that:\n",
    "# \"out\" will give you access to all hidden states in the sequence, for each temporal step\n",
    "# \"hidden\" will allow you to continue the sequence and backpropagate later, with another sequence\n",
    "inputs = torch.cat(inputs).view(len(inputs), 1, -1)\n",
    "hidden = (torch.randn(1, 1, 3), torch.randn(1, 1, 3))  # Re-initialize\n",
    "out, hidden = lstm(inputs, hidden)\n",
    "print(out)\n",
    "print(hidden)"
   ]
  },
  {
   "cell_type": "markdown",
   "metadata": {
    "id": "QxCCoIVwMEoX"
   },
   "source": [
    "### Creating our own LSTM Model\n",
    "\n",
    "We'll implement now a LSTM model, taking the same inputs and also outputing a score for the sentence."
   ]
  },
  {
   "cell_type": "code",
   "execution_count": 148,
   "metadata": {
    "id": "7obmINvlMGCB"
   },
   "outputs": [],
   "source": [
    "# Models are usually implemented as custom nn.Module subclass\n",
    "# We need to redefine the __init__ method, which creates the object\n",
    "# We also need to redefine the forward method, which transform the input into outputs\n",
    "\n",
    "class LSTMModel(nn.Module):\n",
    "    def __init__(self, embedding_dim, vocabulary_size, hidden_dim, embeddings=None, fine_tuning=False):\n",
    "        super().__init__()\n",
    "        if embeddings is None:\n",
    "          self.embeddings = nn.Embedding(num_embeddings=vocabulary_size+1,embedding_dim=embedding_dim)\n",
    "          self.embeddings.weight.requires_grad=fine_tuning\n",
    "        else:\n",
    "          self.embeddings=embeddings\n",
    "          self.embeddings.weight.requires_grad=fine_tuning\n",
    "        self.lstm = nn.LSTM(input_size=embedding_dim,\n",
    "                    hidden_size=hidden_dim,\n",
    "                    batch_first=True)\n",
    "        self.linear = nn.Linear(in_features=hidden_dim,out_features=1)\n",
    "        # To complete     \n",
    "\n",
    "    def forward(self, inputs):\n",
    "        x = self.embeddings(inputs)\n",
    "        _,(hidden,cell) = self.lstm(x)\n",
    "        o = self.linear(hidden)\n",
    "        o = torch.squeeze(o)\n",
    "        return(o)\n",
    "        # To complete "
   ]
  },
  {
   "cell_type": "markdown",
   "metadata": {
    "id": "55yoCnZCMMzh"
   },
   "source": [
    "### Questions: \n",
    "- What do you see with a simple application of LSTM models ? List the possible reasons for that result (these could be linked to the data, the way it is pre-processed, the architecture, and the training procedure). \n",
    "\n",
    "### Answers: \n",
    "the training take more time than the other models and it doesn't reach the accuracy of the averaging model without pretraining and with pretraining with fine tuning. This is due to the fact that an LSTM has way more parameters to train and it's much harder to train and the length of the different texts have an influence too when we increase or decrease them (long term or short term dependencies influenced in the model) "
   ]
  },
  {
   "cell_type": "code",
   "execution_count": 149,
   "metadata": {
    "id": "NeihrVgpMILu"
   },
   "outputs": [],
   "source": [
    "recurrent_model = LSTMModel(300, len(training_word2idx), 100)\n",
    "opt_recurrent = optim.Adam(recurrent_model.parameters(), lr=0.0025, betas=(0.9, 0.999))"
   ]
  },
  {
   "cell_type": "code",
   "execution_count": 150,
   "metadata": {
    "colab": {
     "base_uri": "https://localhost:8080/"
    },
    "id": "IS6apFUyMTdE",
    "outputId": "9cb3ce2d-f2e4-4ec5-d9f0-0b48aeb66ad2"
   },
   "outputs": [
    {
     "name": "stdout",
     "output_type": "stream",
     "text": [
      "Beginning training...\n",
      "Epoch 1:\n",
      "Batch 0 : training loss = 0.6967114806175232; training acc = 48.5\n",
      "Batch 20 : training loss = 0.6812250018119812; training acc = 57.0\n",
      "Batch 40 : training loss = 0.6868132948875427; training acc = 56.0\n",
      "Batch 60 : training loss = 0.684570848941803; training acc = 59.0\n",
      "Batch 80 : training loss = 0.664345920085907; training acc = 63.5\n",
      "Epoch 1 : Validation loss = 0.6585546281933784; Validation acc = 61.12\n",
      "Epoch 2:\n",
      "Batch 0 : training loss = 0.6396326422691345; training acc = 63.5\n",
      "Batch 20 : training loss = 0.6277399659156799; training acc = 66.5\n",
      "Batch 40 : training loss = 0.6149534583091736; training acc = 65.5\n",
      "Batch 60 : training loss = 0.614769458770752; training acc = 66.5\n",
      "Batch 80 : training loss = 0.6083968877792358; training acc = 68.5\n",
      "Epoch 2 : Validation loss = 0.6270265485346317; Validation acc = 66.68\n",
      "Epoch 3:\n",
      "Batch 0 : training loss = 0.5000506043434143; training acc = 76.5\n",
      "Batch 20 : training loss = 0.606107771396637; training acc = 66.5\n",
      "Batch 40 : training loss = 0.5770301818847656; training acc = 72.0\n",
      "Batch 60 : training loss = 0.5788177847862244; training acc = 67.5\n",
      "Batch 80 : training loss = 0.571755051612854; training acc = 72.0\n",
      "Epoch 3 : Validation loss = 0.6017190717160702; Validation acc = 70.08\n",
      "Epoch 4:\n",
      "Batch 0 : training loss = 0.5120993256568909; training acc = 72.5\n",
      "Batch 20 : training loss = 0.4795844256877899; training acc = 75.0\n",
      "Batch 40 : training loss = 0.41702696681022644; training acc = 83.5\n",
      "Batch 60 : training loss = 0.4406852722167969; training acc = 81.0\n",
      "Batch 80 : training loss = 0.4611031413078308; training acc = 81.0\n",
      "Epoch 4 : Validation loss = 0.5683365951478482; Validation acc = 71.84\n",
      "Epoch 5:\n",
      "Batch 0 : training loss = 0.3831538259983063; training acc = 82.0\n",
      "Batch 20 : training loss = 0.3482425808906555; training acc = 87.0\n",
      "Batch 40 : training loss = 0.3080424666404724; training acc = 87.0\n",
      "Batch 60 : training loss = 0.40511876344680786; training acc = 84.0\n",
      "Batch 80 : training loss = 0.3368450403213501; training acc = 85.5\n",
      "Epoch 5 : Validation loss = 0.6261797240376472; Validation acc = 70.92\n",
      "Early stopping.\n",
      "Epoch 5 : Test loss = 0.6176305032074452; Test acc = 71.492\n"
     ]
    }
   ],
   "source": [
    "train_losses = experiment(recurrent_model, opt_recurrent, criterion)"
   ]
  },
  {
   "cell_type": "markdown",
   "metadata": {
    "id": "RsPQtHgBRiVl"
   },
   "source": [
    "# Fine-tuning a Bert model\n",
    "\n",
    "Fine-tune the lightest BERT model available on IMDB data and compare it with previous results ! You should simply follow the tutorial and slightly adapt it to our way of obtaining the data:\n",
    "https://huggingface.co/transformers/custom_datasets.html#seq-imdb\n",
    "\n",
    "- The model performs quite well with a performance comparable or better than the previous models."
   ]
  },
  {
   "cell_type": "code",
   "execution_count": 151,
   "metadata": {
    "colab": {
     "base_uri": "https://localhost:8080/"
    },
    "id": "TNG_DFckXKu5",
    "outputId": "5d8d0087-49f2-478b-843e-64752af9dc58"
   },
   "outputs": [
    {
     "name": "stdout",
     "output_type": "stream",
     "text": [
      "Requirement already satisfied: transformers in /usr/local/lib/python3.7/dist-packages (4.12.3)\n",
      "Requirement already satisfied: tokenizers<0.11,>=0.10.1 in /usr/local/lib/python3.7/dist-packages (from transformers) (0.10.3)\n",
      "Requirement already satisfied: packaging>=20.0 in /usr/local/lib/python3.7/dist-packages (from transformers) (21.2)\n",
      "Requirement already satisfied: requests in /usr/local/lib/python3.7/dist-packages (from transformers) (2.23.0)\n",
      "Requirement already satisfied: pyyaml>=5.1 in /usr/local/lib/python3.7/dist-packages (from transformers) (6.0)\n",
      "Requirement already satisfied: huggingface-hub<1.0,>=0.1.0 in /usr/local/lib/python3.7/dist-packages (from transformers) (0.1.2)\n",
      "Requirement already satisfied: regex!=2019.12.17 in /usr/local/lib/python3.7/dist-packages (from transformers) (2019.12.20)\n",
      "Requirement already satisfied: importlib-metadata in /usr/local/lib/python3.7/dist-packages (from transformers) (4.8.2)\n",
      "Requirement already satisfied: filelock in /usr/local/lib/python3.7/dist-packages (from transformers) (3.3.2)\n",
      "Requirement already satisfied: sacremoses in /usr/local/lib/python3.7/dist-packages (from transformers) (0.0.46)\n",
      "Requirement already satisfied: numpy>=1.17 in /usr/local/lib/python3.7/dist-packages (from transformers) (1.19.5)\n",
      "Requirement already satisfied: tqdm>=4.27 in /usr/local/lib/python3.7/dist-packages (from transformers) (4.62.3)\n",
      "Requirement already satisfied: typing-extensions>=3.7.4.3 in /usr/local/lib/python3.7/dist-packages (from huggingface-hub<1.0,>=0.1.0->transformers) (3.10.0.2)\n",
      "Requirement already satisfied: pyparsing<3,>=2.0.2 in /usr/local/lib/python3.7/dist-packages (from packaging>=20.0->transformers) (2.4.7)\n",
      "Requirement already satisfied: zipp>=0.5 in /usr/local/lib/python3.7/dist-packages (from importlib-metadata->transformers) (3.6.0)\n",
      "Requirement already satisfied: idna<3,>=2.5 in /usr/local/lib/python3.7/dist-packages (from requests->transformers) (2.10)\n",
      "Requirement already satisfied: urllib3!=1.25.0,!=1.25.1,<1.26,>=1.21.1 in /usr/local/lib/python3.7/dist-packages (from requests->transformers) (1.24.3)\n",
      "Requirement already satisfied: chardet<4,>=3.0.2 in /usr/local/lib/python3.7/dist-packages (from requests->transformers) (3.0.4)\n",
      "Requirement already satisfied: certifi>=2017.4.17 in /usr/local/lib/python3.7/dist-packages (from requests->transformers) (2021.10.8)\n",
      "Requirement already satisfied: click in /usr/local/lib/python3.7/dist-packages (from sacremoses->transformers) (7.1.2)\n",
      "Requirement already satisfied: joblib in /usr/local/lib/python3.7/dist-packages (from sacremoses->transformers) (1.1.0)\n",
      "Requirement already satisfied: six in /usr/local/lib/python3.7/dist-packages (from sacremoses->transformers) (1.15.0)\n"
     ]
    }
   ],
   "source": [
    "!pip install transformers\n",
    "import transformers"
   ]
  },
  {
   "cell_type": "code",
   "execution_count": 152,
   "metadata": {
    "id": "d2PQPD0K0Rg5"
   },
   "outputs": [],
   "source": [
    "from pathlib import Path\n",
    "\n",
    "def read_imdb_split(split_dir):\n",
    "    split_dir = Path(split_dir)\n",
    "    texts = []\n",
    "    labels = []\n",
    "    for label_dir in [\"pos\", \"neg\"]:\n",
    "        for text_file in (split_dir/label_dir).iterdir():\n",
    "            texts.append(text_file.read_text())\n",
    "            labels.append(0 if label_dir is \"neg\" else 1)\n",
    "\n",
    "    return texts, labels\n",
    "\n",
    "train_texts1, train_labels1 = read_imdb_split('aclImdb/train')\n",
    "test_texts1, test_labels1 = read_imdb_split('aclImdb/test')\n",
    "from sklearn.model_selection import train_test_split\n",
    "train_texts1, val_texts1, train_labels1, val_labels1 = train_test_split(train_texts1, train_labels1, test_size=.2)"
   ]
  },
  {
   "cell_type": "code",
   "execution_count": 153,
   "metadata": {
    "colab": {
     "base_uri": "https://localhost:8080/"
    },
    "id": "cPr4rQ-QxTpi",
    "outputId": "39350fe9-163c-41c5-a571-427a10f5f357"
   },
   "outputs": [
    {
     "name": "stderr",
     "output_type": "stream",
     "text": [
      "loading file https://huggingface.co/distilbert-base-uncased/resolve/main/vocab.txt from cache at /root/.cache/huggingface/transformers/0e1bbfda7f63a99bb52e3915dcf10c3c92122b827d92eb2d34ce94ee79ba486c.d789d64ebfe299b0e416afc4a169632f903f693095b4629a7ea271d5a0cf2c99\n",
      "loading file https://huggingface.co/distilbert-base-uncased/resolve/main/tokenizer.json from cache at /root/.cache/huggingface/transformers/75abb59d7a06f4f640158a9bfcde005264e59e8d566781ab1415b139d2e4c603.7f2721073f19841be16f41b0a70b600ca6b880c8f3df6f3535cbc704371bdfa4\n",
      "loading file https://huggingface.co/distilbert-base-uncased/resolve/main/added_tokens.json from cache at None\n",
      "loading file https://huggingface.co/distilbert-base-uncased/resolve/main/special_tokens_map.json from cache at None\n",
      "loading file https://huggingface.co/distilbert-base-uncased/resolve/main/tokenizer_config.json from cache at /root/.cache/huggingface/transformers/8c8624b8ac8aa99c60c912161f8332de003484428c47906d7ff7eb7f73eecdbb.20430bd8e10ef77a7d2977accefe796051e01bc2fc4aa146bc862997a1a15e79\n",
      "loading configuration file https://huggingface.co/distilbert-base-uncased/resolve/main/config.json from cache at /root/.cache/huggingface/transformers/23454919702d26495337f3da04d1655c7ee010d5ec9d77bdb9e399e00302c0a1.91b885ab15d631bf9cee9dc9d25ece0afd932f2f5130eba28f2055b2220c0333\n",
      "Model config DistilBertConfig {\n",
      "  \"activation\": \"gelu\",\n",
      "  \"architectures\": [\n",
      "    \"DistilBertForMaskedLM\"\n",
      "  ],\n",
      "  \"attention_dropout\": 0.1,\n",
      "  \"dim\": 768,\n",
      "  \"dropout\": 0.1,\n",
      "  \"hidden_dim\": 3072,\n",
      "  \"initializer_range\": 0.02,\n",
      "  \"max_position_embeddings\": 512,\n",
      "  \"model_type\": \"distilbert\",\n",
      "  \"n_heads\": 12,\n",
      "  \"n_layers\": 6,\n",
      "  \"pad_token_id\": 0,\n",
      "  \"qa_dropout\": 0.1,\n",
      "  \"seq_classif_dropout\": 0.2,\n",
      "  \"sinusoidal_pos_embds\": false,\n",
      "  \"tie_weights_\": true,\n",
      "  \"transformers_version\": \"4.12.3\",\n",
      "  \"vocab_size\": 30522\n",
      "}\n",
      "\n"
     ]
    }
   ],
   "source": [
    "from transformers import DistilBertTokenizerFast\n",
    "tokenizer = DistilBertTokenizerFast.from_pretrained('distilbert-base-uncased')\n",
    "train_encodings = tokenizer(train_texts1, truncation=True, padding=True)\n",
    "val_encodings = tokenizer(val_texts1, truncation=True, padding=True)\n",
    "test_encodings = tokenizer(test_texts1, truncation=True, padding=True)"
   ]
  },
  {
   "cell_type": "code",
   "execution_count": 154,
   "metadata": {
    "id": "m-yCtiTOyIB1"
   },
   "outputs": [],
   "source": [
    "# we need a new class to process the data because the output of the __getitem__ method should be \n",
    "# a dictionnary and in teh previous class it was a tuple\n",
    "class IMDbDataset(torch.utils.data.Dataset):\n",
    "    def __init__(self, encodings, labels):\n",
    "        self.encodings = encodings\n",
    "        self.labels = labels\n",
    "\n",
    "    def __getitem__(self, idx):\n",
    "        item = {key: torch.tensor(val[idx]) for key, val in self.encodings.items()}\n",
    "        item['labels'] = torch.tensor(self.labels[idx])\n",
    "        return item\n",
    "\n",
    "    def __len__(self):\n",
    "        return len(self.labels)\n",
    "\n",
    "train_dataset = IMDbDataset(train_encodings,train_labels1)\n",
    "val_dataset = IMDbDataset(val_encodings,val_labels1)\n",
    "test_dataset = IMDbDataset(test_encodings,test_labels1)"
   ]
  },
  {
   "cell_type": "code",
   "execution_count": null,
   "metadata": {
    "colab": {
     "base_uri": "https://localhost:8080/",
     "height": 758
    },
    "id": "gatlD4VTYDTZ",
    "outputId": "0409a4a3-959c-4ed1-d212-df516735cc0f"
   },
   "outputs": [
    {
     "name": "stderr",
     "output_type": "stream",
     "text": [
      "PyTorch: setting up devices\n",
      "The default value for the training argument `--report_to` will change in v5 (from all installed integrations to none). In v5, you will need to use `--report_to all` to get the same behavior as now. You should start updating your code and make this info disappear :-).\n",
      "loading configuration file https://huggingface.co/distilbert-base-uncased/resolve/main/config.json from cache at /root/.cache/huggingface/transformers/23454919702d26495337f3da04d1655c7ee010d5ec9d77bdb9e399e00302c0a1.91b885ab15d631bf9cee9dc9d25ece0afd932f2f5130eba28f2055b2220c0333\n",
      "Model config DistilBertConfig {\n",
      "  \"activation\": \"gelu\",\n",
      "  \"architectures\": [\n",
      "    \"DistilBertForMaskedLM\"\n",
      "  ],\n",
      "  \"attention_dropout\": 0.1,\n",
      "  \"dim\": 768,\n",
      "  \"dropout\": 0.1,\n",
      "  \"hidden_dim\": 3072,\n",
      "  \"initializer_range\": 0.02,\n",
      "  \"max_position_embeddings\": 512,\n",
      "  \"model_type\": \"distilbert\",\n",
      "  \"n_heads\": 12,\n",
      "  \"n_layers\": 6,\n",
      "  \"pad_token_id\": 0,\n",
      "  \"qa_dropout\": 0.1,\n",
      "  \"seq_classif_dropout\": 0.2,\n",
      "  \"sinusoidal_pos_embds\": false,\n",
      "  \"tie_weights_\": true,\n",
      "  \"transformers_version\": \"4.12.3\",\n",
      "  \"vocab_size\": 30522\n",
      "}\n",
      "\n",
      "loading weights file https://huggingface.co/distilbert-base-uncased/resolve/main/pytorch_model.bin from cache at /root/.cache/huggingface/transformers/9c169103d7e5a73936dd2b627e42851bec0831212b677c637033ee4bce9ab5ee.126183e36667471617ae2f0835fab707baa54b731f991507ebbb55ea85adb12a\n",
      "Some weights of the model checkpoint at distilbert-base-uncased were not used when initializing DistilBertForSequenceClassification: ['vocab_transform.bias', 'vocab_projector.weight', 'vocab_layer_norm.weight', 'vocab_layer_norm.bias', 'vocab_transform.weight', 'vocab_projector.bias']\n",
      "- This IS expected if you are initializing DistilBertForSequenceClassification from the checkpoint of a model trained on another task or with another architecture (e.g. initializing a BertForSequenceClassification model from a BertForPreTraining model).\n",
      "- This IS NOT expected if you are initializing DistilBertForSequenceClassification from the checkpoint of a model that you expect to be exactly identical (initializing a BertForSequenceClassification model from a BertForSequenceClassification model).\n",
      "Some weights of DistilBertForSequenceClassification were not initialized from the model checkpoint at distilbert-base-uncased and are newly initialized: ['classifier.bias', 'pre_classifier.weight', 'pre_classifier.bias', 'classifier.weight']\n",
      "You should probably TRAIN this model on a down-stream task to be able to use it for predictions and inference.\n",
      "***** Running training *****\n",
      "  Num examples = 20000\n",
      "  Num Epochs = 3\n",
      "  Instantaneous batch size per device = 16\n",
      "  Total train batch size (w. parallel, distributed & accumulation) = 16\n",
      "  Gradient Accumulation steps = 1\n",
      "  Total optimization steps = 3750\n"
     ]
    },
    {
     "data": {
      "text/html": [
       "\n",
       "    <div>\n",
       "      \n",
       "      <progress value='9' max='3750' style='width:300px; height:20px; vertical-align: middle;'></progress>\n",
       "      [   9/3750 00:10 < 1:35:31, 0.65 it/s, Epoch 0.01/3]\n",
       "    </div>\n",
       "    <table border=\"1\" class=\"dataframe\">\n",
       "  <thead>\n",
       "    <tr style=\"text-align: left;\">\n",
       "      <th>Step</th>\n",
       "      <th>Training Loss</th>\n",
       "    </tr>\n",
       "  </thead>\n",
       "  <tbody>\n",
       "  </tbody>\n",
       "</table><p>"
      ],
      "text/plain": [
       "<IPython.core.display.HTML object>"
      ]
     },
     "metadata": {},
     "output_type": "display_data"
    }
   ],
   "source": [
    "from transformers import DistilBertForSequenceClassification, Trainer, TrainingArguments\n",
    "\n",
    "training_args = TrainingArguments(\n",
    "    output_dir='./results',          # output directory\n",
    "    num_train_epochs=3,              # total number of training epochs\n",
    "    per_device_train_batch_size=16,  # batch size per device during training\n",
    "    per_device_eval_batch_size=64,   # batch size for evaluation\n",
    "    warmup_steps=500,                # number of warmup steps for learning rate scheduler\n",
    "    weight_decay=0.01,               # strength of weight decay\n",
    "    logging_dir='./logs',            # directory for storing logs\n",
    "    logging_steps=10,\n",
    ")\n",
    "\n",
    "model = DistilBertForSequenceClassification.from_pretrained(\"distilbert-base-uncased\")\n",
    "\n",
    "trainer = Trainer(\n",
    "    model=model,                         # the instantiated 🤗 Transformers model to be trained\n",
    "    args=training_args,                  # training arguments, defined above\n",
    "    train_dataset=train_dataset,         # training dataset\n",
    "    eval_dataset=val_dataset             # evaluation dataset\n",
    ")\n",
    "\n",
    "trainer.train()"
   ]
  },
  {
   "cell_type": "code",
   "execution_count": null,
   "metadata": {
    "id": "FPng1CVFwrHw"
   },
   "outputs": [],
   "source": []
  }
 ],
 "metadata": {
  "accelerator": "GPU",
  "colab": {
   "collapsed_sections": [],
   "name": "TP_Sentiment_Analysis_Neural_Models_DS_Telecom_20_Students.ipynb",
   "provenance": [],
   "toc_visible": true
  },
  "kernelspec": {
   "display_name": "Python 3",
   "language": "python",
   "name": "python3"
  },
  "language_info": {
   "codemirror_mode": {
    "name": "ipython",
    "version": 3
   },
   "file_extension": ".py",
   "mimetype": "text/x-python",
   "name": "python",
   "nbconvert_exporter": "python",
   "pygments_lexer": "ipython3",
   "version": "3.7.6"
  }
 },
 "nbformat": 4,
 "nbformat_minor": 1
}
