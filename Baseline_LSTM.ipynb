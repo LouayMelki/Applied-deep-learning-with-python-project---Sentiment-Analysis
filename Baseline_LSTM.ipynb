{
 "cells": [
  {
   "cell_type": "markdown",
   "id": "1052467e-c73d-41ee-af01-7b95e0e1fe6d",
   "metadata": {},
   "source": [
    "# Baseline model for IMDB"
   ]
  },
  {
   "cell_type": "code",
   "execution_count": 1,
   "id": "59d5cd3b-03a5-46b9-a70b-7f2f4849cc21",
   "metadata": {},
   "outputs": [
    {
     "name": "stderr",
     "output_type": "stream",
     "text": [
      "[nltk_data] Downloading package punkt to\n",
      "[nltk_data]     C:\\Users\\ngtna\\AppData\\Roaming\\nltk_data...\n",
      "[nltk_data]   Package punkt is already up-to-date!\n"
     ]
    }
   ],
   "source": [
    "import os\n",
    "import time\n",
    "\n",
    "import numpy as np\n",
    "import pandas as pd\n",
    "import matplotlib.pyplot as plt\n",
    "import nltk\n",
    "nltk.download('punkt')\n",
    "from nltk import word_tokenize\n",
    "\n",
    "\n",
    "from sklearn.model_selection import train_test_split\n",
    "\n",
    "import torch\n",
    "from torch import nn\n",
    "from torch import optim\n",
    "from torch.utils.data import Dataset, DataLoader\n",
    "\n",
    "from torch.nn.utils.rnn import pad_sequence"
   ]
  },
  {
   "cell_type": "code",
   "execution_count": 2,
   "id": "f75c6788-15ee-4358-a40b-c1b27b6202b9",
   "metadata": {},
   "outputs": [
    {
     "data": {
      "text/plain": [
       "device(type='cuda')"
      ]
     },
     "execution_count": 2,
     "metadata": {},
     "output_type": "execute_result"
    }
   ],
   "source": [
    "device =  torch.device(\"cuda\" if torch.cuda.is_available() else \"cpu\")\n",
    "device "
   ]
  },
  {
   "cell_type": "markdown",
   "id": "13fb106c-0114-4029-9a40-4073943f7d81",
   "metadata": {},
   "source": [
    "## Load the dataframe and split it"
   ]
  },
  {
   "cell_type": "code",
   "execution_count": 3,
   "id": "593d84ab-e0aa-455f-8a48-b49b1daa29d0",
   "metadata": {},
   "outputs": [],
   "source": [
    "filename = \"IMDB Dataset.csv\"\n",
    "df = pd.read_csv(filename)"
   ]
  },
  {
   "cell_type": "code",
   "execution_count": 4,
   "id": "3c3cea89-e8f5-4560-9614-615a4375fc87",
   "metadata": {},
   "outputs": [
    {
     "data": {
      "text/html": [
       "<div>\n",
       "<style scoped>\n",
       "    .dataframe tbody tr th:only-of-type {\n",
       "        vertical-align: middle;\n",
       "    }\n",
       "\n",
       "    .dataframe tbody tr th {\n",
       "        vertical-align: top;\n",
       "    }\n",
       "\n",
       "    .dataframe thead th {\n",
       "        text-align: right;\n",
       "    }\n",
       "</style>\n",
       "<table border=\"1\" class=\"dataframe\">\n",
       "  <thead>\n",
       "    <tr style=\"text-align: right;\">\n",
       "      <th></th>\n",
       "      <th>review</th>\n",
       "      <th>sentiment</th>\n",
       "    </tr>\n",
       "  </thead>\n",
       "  <tbody>\n",
       "    <tr>\n",
       "      <th>38863</th>\n",
       "      <td>What can you say when you see a good French mo...</td>\n",
       "      <td>positive</td>\n",
       "    </tr>\n",
       "  </tbody>\n",
       "</table>\n",
       "</div>"
      ],
      "text/plain": [
       "                                                  review sentiment\n",
       "38863  What can you say when you see a good French mo...  positive"
      ]
     },
     "execution_count": 4,
     "metadata": {},
     "output_type": "execute_result"
    }
   ],
   "source": [
    "df.sample()"
   ]
  },
  {
   "cell_type": "code",
   "execution_count": 5,
   "id": "8c81e4fd-2a76-46b2-8489-9291627d3107",
   "metadata": {},
   "outputs": [
    {
     "name": "stdout",
     "output_type": "stream",
     "text": [
      "<class 'pandas.core.frame.DataFrame'>\n",
      "RangeIndex: 50000 entries, 0 to 49999\n",
      "Data columns (total 2 columns):\n",
      " #   Column     Non-Null Count  Dtype \n",
      "---  ------     --------------  ----- \n",
      " 0   review     50000 non-null  object\n",
      " 1   sentiment  50000 non-null  object\n",
      "dtypes: object(2)\n",
      "memory usage: 781.4+ KB\n"
     ]
    }
   ],
   "source": [
    "df.info()"
   ]
  },
  {
   "cell_type": "code",
   "execution_count": 6,
   "id": "438c4fb9-65a7-4d41-99d4-36c1e0fea953",
   "metadata": {},
   "outputs": [
    {
     "data": {
      "text/plain": [
       "array(['positive', 'negative'], dtype=object)"
      ]
     },
     "execution_count": 6,
     "metadata": {},
     "output_type": "execute_result"
    }
   ],
   "source": [
    "df[\"sentiment\"].unique()"
   ]
  },
  {
   "cell_type": "code",
   "execution_count": 7,
   "id": "d1620ab7-362d-4035-b274-2f5624760c3c",
   "metadata": {},
   "outputs": [
    {
     "data": {
      "image/png": "[encoded data removed]",
      "text/plain": [
       "<Figure size 432x288 with 1 Axes>"
      ]
     },
     "metadata": {
      "needs_background": "light"
     },
     "output_type": "display_data"
    }
   ],
   "source": [
    "df[\"sentiment\"].value_counts(normalize=True).plot.bar()\n",
    "plt.xticks(rotation = 45)\n",
    "plt.title(\"Ratio of negative and positive samples in the data\")\n",
    "plt.show()"
   ]
  },
  {
   "cell_type": "code",
   "execution_count": 8,
   "id": "e52db18c-d11b-49fc-90c4-b658ac713ba9",
   "metadata": {},
   "outputs": [],
   "source": [
    "df[\"target\"] = df[\"sentiment\"].apply(lambda x: 0 if x==\"negative\" else 1)"
   ]
  },
  {
   "cell_type": "code",
   "execution_count": 9,
   "id": "9f246eb7-b95d-42a5-86d2-17319b14e44d",
   "metadata": {},
   "outputs": [],
   "source": [
    "df = df.iloc[:100,:]"
   ]
  },
  {
   "cell_type": "code",
   "execution_count": 10,
   "id": "d1afdf3c-a5e8-4267-801e-a0f59283e2f8",
   "metadata": {},
   "outputs": [],
   "source": [
    "text_list = df[\"review\"].to_list()\n",
    "target_list = df[[\"target\"]].to_numpy()\n",
    "text_train, text_test, target_train, target_test = train_test_split(\n",
    "   text_list, target_list, test_size=0.2, stratify=target_list)"
   ]
  },
  {
   "cell_type": "markdown",
   "id": "642b36ea-c9ba-4e82-addc-618754855eb8",
   "metadata": {},
   "source": [
    "## Dataset"
   ]
  },
  {
   "cell_type": "code",
   "execution_count": 44,
   "id": "9b0dfa83-63e4-4c3b-8759-a6476ef5f329",
   "metadata": {},
   "outputs": [],
   "source": [
    "class TextClassificationDataset(Dataset):\n",
    "    def __init__(self, data, categories, vocab = None, max_length = 100, min_freq = 5):\n",
    "        self.data = data      \n",
    "        # Set the maximum length we will keep for the sequences\n",
    "        self.max_length = max_length\n",
    "        \n",
    "        # Allow to import a vocabulary (for valid/test datasets, that will use the training vocabulary)\n",
    "        if vocab is not None:\n",
    "            self.word2idx, self.idx2word = vocab\n",
    "        else:\n",
    "            # If no vocabulary imported, build it (and reverse)\n",
    "            self.word2idx, self.idx2word = self.build_vocab(self.data, min_freq)\n",
    "        \n",
    "        # We then need to tokenize the data .. \n",
    "        tokenized_data = [word_tokenize(elem) for elem in self.data] \n",
    "        # Transform words into lists of indexes ... (use the .get() method to redirect unknown words to the UNK token)\n",
    "        indexed_data = []\n",
    "        for token in tokenized_data:\n",
    "            idx=[]\n",
    "            for elem in token:\n",
    "                if self.word2idx.get(elem)==None:\n",
    "                    idx.append(self.word2idx.get('UNK'))\n",
    "                else:\n",
    "                    idx.append(self.word2idx.get(elem))\n",
    "            indexed_data.append(idx)\n",
    "        # And transform this list of lists into a list of Pytorch LongTensors\n",
    "        tensor_data =[torch.LongTensor(elem) for elem in indexed_data] \n",
    "        tensor_y = torch.FloatTensor(categories)   \n",
    "        cut_tensor_data =[elem[:max_length] for elem in tensor_data] \n",
    "        \n",
    "        # Now, we need to use the pad_sequence function to have the whole dataset represented as one tensor,\n",
    "        # containing sequences of the same length. We choose the padding_value to be 0, the we want the\n",
    "        # batch dimension to be the first dimension \n",
    "        self.tensor_data = pad_sequence(cut_tensor_data, batch_first=True, padding_value=0)\n",
    "        self.tensor_y = tensor_y\n",
    "        \n",
    "    def __len__(self):\n",
    "        return len(self.data)\n",
    "\n",
    "    def __getitem__(self, idx):\n",
    "        if torch.is_tensor(idx):\n",
    "            idx = idx.tolist()\n",
    "        return self.tensor_data[idx], self.tensor_y[idx] \n",
    "    \n",
    "    def build_vocab(self, corpus, count_threshold):\n",
    "        \"\"\"\n",
    "        Same as in the previous TP: we want to output word_index, a dictionary containing words \n",
    "        and their corresponding indexes as {word : indexes} \n",
    "        But we also want the reverse, which is a dictionary {indexes: word}\n",
    "        Don't forget to add a UNK token that we need when encountering unknown words\n",
    "        We also choose '0' to represent the padding index, so begin the vocabulary index at 1 ! \n",
    "        \"\"\"\n",
    "        word_counts = {}\n",
    "        # create list of all elements in corpus in corpus\n",
    "        corp=[]\n",
    "        for element in corpus:\n",
    "            corp.append(word_tokenize(element))\n",
    "        for text in corp:\n",
    "            for word in text:\n",
    "                word_counts[word.lower()]=word_counts.get(word.lower(),0)+text.count(word)\n",
    "        keys=sorted(word_counts) #sort the words in alphabetical order \n",
    "        filtered_word_counts = {}\n",
    "        for key in keys:\n",
    "            if (word_counts[key]>=count_threshold): # retrieve words with occurences higher than count_threshold\n",
    "                filtered_word_counts[key]=word_counts[key]\n",
    "        word_index={}\n",
    "        i=1\n",
    "        for key in filtered_word_counts.keys():\n",
    "            word_index[key]=i\n",
    "            i+=1 \n",
    "        word_index['UNK']=i  #adding UNK \n",
    "        idx_word={idx:word for word,idx in word_index.items()}\n",
    "        return word_index, idx_word\n",
    "    \n",
    "    def get_vocab(self):\n",
    "        # A simple way to get the training vocab when building the valid/test \n",
    "        return self.word2idx, self.idx2word"
   ]
  },
  {
   "cell_type": "code",
   "execution_count": 45,
   "id": "3db7fd5b-337a-4b2e-979e-3accd6a8b9aa",
   "metadata": {},
   "outputs": [],
   "source": [
    "training_dataset = TextClassificationDataset(text_train, target_train)\n",
    "training_word2idx, training_idx2word = training_dataset.get_vocab()"
   ]
  },
  {
   "cell_type": "code",
   "execution_count": 46,
   "id": "dc4d11cd-6ac8-4584-af1e-34ebc46142ee",
   "metadata": {},
   "outputs": [],
   "source": [
    "test_dataset = TextClassificationDataset(text_test, target_test, (training_word2idx, training_idx2word))\n",
    "training_dataloader = DataLoader(training_dataset, batch_size = 32, shuffle=True)\n",
    "test_dataloader = DataLoader(test_dataset, batch_size = 16)"
   ]
  },
  {
   "cell_type": "markdown",
   "id": "6087b9ff-9b82-4cd5-a4d6-a6e31fdf55d5",
   "metadata": {},
   "source": [
    "## Model definition"
   ]
  },
  {
   "cell_type": "code",
   "execution_count": 90,
   "id": "a986f4bf-6bd5-4624-befe-6621c54f05f7",
   "metadata": {},
   "outputs": [],
   "source": [
    "class BaselineModel(nn.Module):\n",
    "    def __init__(self, embedding_dim, vocabulary_size, hidden_dim, embeddings=None, fine_tuning=False):\n",
    "        super(BaselineModel, self).__init__()\n",
    "        self.hidden_dim = hidden_dim\n",
    "        self.embeddings = nn.Embedding(num_embeddings=vocabulary_size+1,embedding_dim=embedding_dim)\n",
    "        self.lstm = nn.LSTM(input_size=embedding_dim,\n",
    "                            hidden_size=hidden_dim,\n",
    "                            batch_first=True,\n",
    "                            bidirectional = False)\n",
    "        self.linear = nn.Linear(in_features=hidden_dim, out_features=1)\n",
    "\n",
    "    def forward(self, inputs):\n",
    "        x = self.embeddings(inputs)\n",
    "        ouput_lstm, (final_hidden_state, final_cell_state) = self.lstm(x) \n",
    "        # ouput_lstm_shape: (batch_size, sequence_length, hidden_dim_lstm)\n",
    "        # final_hidden_state: (1, batch_size, hidden_dim_lstm)\n",
    "        # final_cell_state: (1, batch_size, hidden_dim_lstm)\n",
    "        # for lstm https://pytorch.org/docs/stable/generated/torch.nn.LSTM.html     \n",
    "        normal_final_hidden_state = torch.squeeze(final_hidden_state, dim=0) # remove dim first dimention \n",
    "        output_logit = self.linear(normal_final_hidden_state)\n",
    "        return(output_logit)"
   ]
  },
  {
   "cell_type": "code",
   "execution_count": 91,
   "id": "3f0b23a9-fd73-4d87-9c99-1d6c2ccf26ea",
   "metadata": {},
   "outputs": [],
   "source": [
    "model = BaselineModel(300, len(training_word2idx), 32).to(device)\n",
    "opt = optim.Adam(model.parameters(), lr=0.0025, betas=(0.9, 0.999))\n",
    "criterion = nn.BCEWithLogitsLoss()"
   ]
  },
  {
   "cell_type": "markdown",
   "id": "24a4f028-26c9-42ef-ab80-82da9b063c5d",
   "metadata": {},
   "source": [
    "## Train, val, experiment functions (helper functions)"
   ]
  },
  {
   "cell_type": "code",
   "execution_count": 92,
   "id": "2cc474f1-98ea-40ee-831a-f1b0fc536c28",
   "metadata": {},
   "outputs": [],
   "source": [
    "def acc_metric_helper(y_logit, target, thresh=0.5):\n",
    "        act = torch.sigmoid(y_logit)\n",
    "        y_pred = (act>thresh).float()\n",
    "        num_corrects = sum(y_pred==target)\n",
    "        num_samples = len(target)\n",
    "        return num_corrects, num_samples"
   ]
  },
  {
   "cell_type": "code",
   "execution_count": 93,
   "id": "a142eaf4-b438-40f3-adf4-513759d647c7",
   "metadata": {},
   "outputs": [],
   "source": [
    "def train_epoch(model, opt, criterion, dataloader):\n",
    "    \"\"\"\n",
    "    Training model for one epoch\n",
    "    \n",
    "    Parameters\n",
    "    ----------\n",
    "    model : model will be trained\n",
    "    opt : optimizer \n",
    "    criterion : for loss function\n",
    "    dataloader : input of the model in the form of dataloader\n",
    "    Returns\n",
    "    -------\n",
    "    list of all batch losses in this epoch\n",
    "    \"\"\"\n",
    "    model.train()\n",
    "    loss_epoch = 0.0\n",
    "    acc_epoch = 0.0\n",
    "    num_corrects_epoch = 0.0\n",
    "    num_samples_epoch = 0.0\n",
    "    for i, (x, y) in enumerate(dataloader):\n",
    "        x= x.to(device)\n",
    "        y= y.to(device)\n",
    "        opt.zero_grad()\n",
    "        y_logit = model.forward(x)\n",
    "        loss = criterion(y_logit, y)\n",
    "        loss.backward() \n",
    "        opt.step() \n",
    "        loss_epoch += loss.item()\n",
    "        num_corrects, num_samples = acc_metric_helper(y_logit, y)\n",
    "        num_corrects_epoch += num_corrects\n",
    "        num_samples_epoch += num_samples \n",
    "    return loss_epoch, num_corrects_epoch/num_samples_epoch"
   ]
  },
  {
   "cell_type": "code",
   "execution_count": 94,
   "id": "88471048-f8de-4264-96de-680033bc1c79",
   "metadata": {},
   "outputs": [],
   "source": [
    "def eval_model(model, criterion, evalloader):\n",
    "    model.eval()\n",
    "    total_epoch_loss = 0\n",
    "    total_epoch_acc = 0\n",
    "    with torch.no_grad():\n",
    "        for i, (x, y) in enumerate(evalloader):\n",
    "            x = x.to(device)\n",
    "            y = y.to(device)\n",
    "            pred = model.forward(x) \n",
    "            loss = criterion(pred, y)\n",
    "            # get probability of the prediction \n",
    "            act = torch.sigmoid(pred)\n",
    "            # act.to(\"cpu\")                             \n",
    "            thresh = 0.5\n",
    "            postact = (act>0.5).float()\n",
    "            num_corrects = sum(y==postact) \n",
    "            acc = 100.0 * num_corrects/len(y)\n",
    "            total_epoch_loss += loss.item()\n",
    "            total_epoch_acc += acc.item()\n",
    "\n",
    "    return total_epoch_loss/(i+1), total_epoch_acc/(i+1)"
   ]
  },
  {
   "cell_type": "code",
   "execution_count": 95,
   "id": "ce2d8933-3619-45d8-9c01-e3b18970efbe",
   "metadata": {},
   "outputs": [],
   "source": [
    "def experiment(model, opt, criterion, num_epochs = 5, early_stopping = False):\n",
    "    train_losses = []\n",
    "    train_accs = []\n",
    "    valid_losses = []\n",
    "    valid_accs = []\n",
    "    # if early_stopping: \n",
    "    #     best_valid_loss = 10. \n",
    "    print(\"Beginning training...\")\n",
    "    for e in range(num_epochs):\n",
    "        print(\"Epoch \" + str(e+1) + \":\")\n",
    "        train_loss, train_acc = train_epoch(model, opt, criterion, training_dataloader)  # Add all elements of a list to the previous list. extend\n",
    "        train_losses.append(train_loss)\n",
    "        train_accs.append(train_acc)\n",
    "        # For validation/test set\n",
    "        valid_loss, valid_acc = eval_model(model, criterion, test_dataloader)\n",
    "        valid_losses.append(valid_loss)\n",
    "        valid_accs.append(valid_acc)\n",
    "        print(\"Epoch \" + str(e+1) + \" : Training loss = \" + str(train_loss) + \"; Training acc = \" + str(train_acc) + \" : Validation loss = \" + str(valid_loss) + \"; Validation acc = \" + str(valid_acc))\n",
    "        # if early_stopping:\n",
    "        #     if valid_loss < best_valid_loss:\n",
    "        #         best_valid_loss = valid_loss\n",
    "        #     else:\n",
    "        #         print(\"Early stopping.\")\n",
    "        #         break  \n",
    "    # test_loss, test_acc = eval_model(model, criterion, test_dataloader)\n",
    "    # print(\"Epoch \" + str(e+1) + \" : Test loss = \" + str(test_loss) + \"; Test acc = \" + str(test_acc))\n",
    "    return train_losses, valid_losses"
   ]
  },
  {
   "cell_type": "markdown",
   "id": "b6353bc5-7dbb-45bb-b68b-cd9a4c93c291",
   "metadata": {},
   "source": [
    "## Run and visualisation"
   ]
  },
  {
   "cell_type": "code",
   "execution_count": 96,
   "id": "8a2957b2-efc9-465c-96ba-69c5190e9b72",
   "metadata": {},
   "outputs": [
    {
     "name": "stdout",
     "output_type": "stream",
     "text": [
      "Beginning training...\n",
      "Epoch 1:\n",
      "Epoch 1 : Training loss = 2.2064362168312073; Training acc = tensor([0.3875], device='cuda:0') : Validation loss = 0.6673890054225922; Validation acc = 75.0\n",
      "Epoch 2:\n",
      "Epoch 2 : Training loss = 1.9033655524253845; Training acc = tensor([0.7875], device='cuda:0') : Validation loss = 0.6854460537433624; Validation acc = 62.5\n",
      "Epoch 3:\n",
      "Epoch 3 : Training loss = 1.785624623298645; Training acc = tensor([0.8000], device='cuda:0') : Validation loss = 0.7083310484886169; Validation acc = 53.125\n",
      "Epoch 4:\n",
      "Epoch 4 : Training loss = 1.6908665895462036; Training acc = tensor([0.8000], device='cuda:0') : Validation loss = 0.725695937871933; Validation acc = 53.125\n",
      "Epoch 5:\n",
      "Epoch 5 : Training loss = 1.5530616641044617; Training acc = tensor([0.8125], device='cuda:0') : Validation loss = 0.7408348321914673; Validation acc = 53.125\n"
     ]
    }
   ],
   "source": [
    "train_losses, valid_losses = experiment(model, opt, criterion)"
   ]
  },
  {
   "cell_type": "code",
   "execution_count": 97,
   "id": "436ecdab-4cd9-4225-be36-3c874d79cafa",
   "metadata": {},
   "outputs": [
    {
     "data": {
      "text/plain": [
       "[<matplotlib.lines.Line2D at 0x1d34cfe7790>]"
      ]
     },
     "execution_count": 97,
     "metadata": {},
     "output_type": "execute_result"
    },
    {
     "data": {
      "image/png": "[encoded data removed]",
      "text/plain": [
       "<Figure size 432x288 with 1 Axes>"
      ]
     },
     "metadata": {
      "needs_background": "light"
     },
     "output_type": "display_data"
    }
   ],
   "source": [
    "import matplotlib.pyplot as plt\n",
    "plt.plot(train_losses)\n",
    "plt.plot(valid_losses)"
   ]
  },
  {
   "cell_type": "code",
   "execution_count": null,
   "id": "32701285-4bbc-4f69-ab96-929c65ec6463",
   "metadata": {},
   "outputs": [],
   "source": []
  },
  {
   "cell_type": "code",
   "execution_count": null,
   "id": "d7f76944-756e-4ea8-b25a-652870270ae4",
   "metadata": {},
   "outputs": [],
   "source": []
  },
  {
   "cell_type": "code",
   "execution_count": null,
   "id": "e84a169c-b91b-4a36-9987-df88cd9f7b90",
   "metadata": {},
   "outputs": [],
   "source": []
  },
  {
   "cell_type": "code",
   "execution_count": null,
   "id": "34046811-743f-42ab-bbd6-8f073ce531ee",
   "metadata": {},
   "outputs": [],
   "source": []
  },
  {
   "cell_type": "code",
   "execution_count": null,
   "id": "f0469d68-ccd7-4423-9cc6-02e3a1812008",
   "metadata": {},
   "outputs": [],
   "source": []
  },
  {
   "cell_type": "code",
   "execution_count": null,
   "id": "678446de-60c6-4234-8d22-abbb8bbfe485",
   "metadata": {},
   "outputs": [],
   "source": []
  },
  {
   "cell_type": "code",
   "execution_count": null,
   "id": "1a6d9cd4-4993-4f84-bac1-3d4e9e755e84",
   "metadata": {},
   "outputs": [],
   "source": []
  },
  {
   "cell_type": "code",
   "execution_count": null,
   "id": "66065316-3313-47f8-99f7-c6c6ddc70e7b",
   "metadata": {},
   "outputs": [],
   "source": []
  },
  {
   "cell_type": "code",
   "execution_count": null,
   "id": "1be888d7-6eea-4217-8d6f-c49c8c9b3d68",
   "metadata": {},
   "outputs": [],
   "source": []
  },
  {
   "cell_type": "code",
   "execution_count": null,
   "id": "be954710-cef4-42cf-a418-a14061c1bf32",
   "metadata": {},
   "outputs": [],
   "source": []
  },
  {
   "cell_type": "code",
   "execution_count": null,
   "id": "2d53bfeb-7c4b-43b1-a747-1d5710ad1360",
   "metadata": {},
   "outputs": [],
   "source": []
  },
  {
   "cell_type": "code",
   "execution_count": null,
   "id": "c98b7ebb-5d1a-491f-8816-4d79ff0f4cfb",
   "metadata": {},
   "outputs": [],
   "source": []
  },
  {
   "cell_type": "code",
   "execution_count": null,
   "id": "1f73ac45-84ad-45ae-9fdb-00f8018f3f2a",
   "metadata": {},
   "outputs": [],
   "source": []
  },
  {
   "cell_type": "code",
   "execution_count": null,
   "id": "22f954ca-6168-4a1f-ac7d-77bedb557f4c",
   "metadata": {},
   "outputs": [],
   "source": []
  },
  {
   "cell_type": "code",
   "execution_count": null,
   "id": "ebb81c37-6ddf-4c2f-b77f-a9e98f016d11",
   "metadata": {},
   "outputs": [],
   "source": []
  },
  {
   "cell_type": "code",
   "execution_count": null,
   "id": "55c44122-acaa-407f-bf39-b892559bf512",
   "metadata": {},
   "outputs": [],
   "source": []
  },
  {
   "cell_type": "code",
   "execution_count": null,
   "id": "5a824bdf-023e-4bfa-a105-e431dbc81728",
   "metadata": {},
   "outputs": [],
   "source": []
  },
  {
   "cell_type": "code",
   "execution_count": null,
   "id": "add4d979-271e-4d21-ae05-5f86fa202563",
   "metadata": {},
   "outputs": [],
   "source": []
  },
  {
   "cell_type": "code",
   "execution_count": null,
   "id": "602313de-bbcd-42f6-ae77-1e0b3dce58b9",
   "metadata": {},
   "outputs": [],
   "source": []
  },
  {
   "cell_type": "code",
   "execution_count": null,
   "id": "ffbc2c55-9857-442c-9417-8237778ebda2",
   "metadata": {},
   "outputs": [],
   "source": []
  }
 ],
 "metadata": {
  "kernelspec": {
   "display_name": "Python [conda env:nlpparis] *",
   "language": "python",
   "name": "conda-env-nlpparis-py"
  },
  "language_info": {
   "codemirror_mode": {
    "name": "ipython",
    "version": 3
   },
   "file_extension": ".py",
   "mimetype": "text/x-python",
   "name": "python",
   "nbconvert_exporter": "python",
   "pygments_lexer": "ipython3",
   "version": "3.9.7"
  }
 },
 "nbformat": 4,
 "nbformat_minor": 5
}
